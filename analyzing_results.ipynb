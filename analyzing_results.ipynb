{
 "cells": [
  {
   "attachments": {},
   "cell_type": "markdown",
   "metadata": {},
   "source": [
    "# Libraries & Loading Data"
   ]
  },
  {
   "cell_type": "code",
   "execution_count": 4,
   "metadata": {},
   "outputs": [],
   "source": [
    "import pandas as pd"
   ]
  },
  {
   "cell_type": "code",
   "execution_count": 5,
   "metadata": {},
   "outputs": [],
   "source": [
    "google = pd.read_csv(\"google.csv\")\n",
    "openai = pd.read_csv(\"openai.csv\")\n",
    "replicate = pd.read_csv(\"replicate.csv\")\n",
    "rock = pd.read_csv(\"rock.csv\")"
   ]
  },
  {
   "attachments": {},
   "cell_type": "markdown",
   "metadata": {},
   "source": [
    "# Analysis"
   ]
  },
  {
   "attachments": {},
   "cell_type": "markdown",
   "metadata": {},
   "source": [
    "## Error Rate"
   ]
  },
  {
   "cell_type": "code",
   "execution_count": 40,
   "metadata": {},
   "outputs": [
    {
     "data": {
      "text/plain": [
       "array([False])"
      ]
     },
     "execution_count": 40,
     "metadata": {},
     "output_type": "execute_result"
    }
   ],
   "source": [
    "google.failure.unique()"
   ]
  },
  {
   "cell_type": "code",
   "execution_count": 41,
   "metadata": {},
   "outputs": [
    {
     "data": {
      "text/plain": [
       "array([False])"
      ]
     },
     "execution_count": 41,
     "metadata": {},
     "output_type": "execute_result"
    }
   ],
   "source": [
    "openai.failure.unique()"
   ]
  },
  {
   "cell_type": "code",
   "execution_count": 42,
   "metadata": {},
   "outputs": [
    {
     "data": {
      "text/plain": [
       "array([False])"
      ]
     },
     "execution_count": 42,
     "metadata": {},
     "output_type": "execute_result"
    }
   ],
   "source": [
    "replicate.failure.unique()"
   ]
  },
  {
   "cell_type": "code",
   "execution_count": 43,
   "metadata": {},
   "outputs": [
    {
     "data": {
      "text/plain": [
       "array([False])"
      ]
     },
     "execution_count": 43,
     "metadata": {},
     "output_type": "execute_result"
    }
   ],
   "source": [
    "google.failure.unique()"
   ]
  },
  {
   "attachments": {},
   "cell_type": "markdown",
   "metadata": {},
   "source": [
    "## Payload Analysis"
   ]
  },
  {
   "cell_type": "code",
   "execution_count": 50,
   "metadata": {},
   "outputs": [
    {
     "data": {
      "text/plain": [
       "payloadSize  model                        \n",
       "large        amazon.titan-text-express-v1     4.767024\n",
       "             amazon.titan-text-lite-v1        6.115110\n",
       "             cohere.command-light-text-v14         NaN\n",
       "             cohere.command-text-v14               NaN\n",
       "             meta.llama2-13b-chat-v1               NaN\n",
       "medium       amazon.titan-text-express-v1     2.691901\n",
       "             amazon.titan-text-lite-v1        1.992278\n",
       "             cohere.command-light-text-v14         NaN\n",
       "             cohere.command-text-v14               NaN\n",
       "             meta.llama2-13b-chat-v1               NaN\n",
       "small        amazon.titan-text-express-v1     4.016011\n",
       "             amazon.titan-text-lite-v1        4.527975\n",
       "             cohere.command-light-text-v14         NaN\n",
       "             cohere.command-text-v14               NaN\n",
       "             meta.llama2-13b-chat-v1               NaN\n",
       "Name: latency, dtype: float64"
      ]
     },
     "execution_count": 50,
     "metadata": {},
     "output_type": "execute_result"
    }
   ],
   "source": [
    "rock.groupby([\"payloadSize\", \"model\"])[\"latency\"].mean()"
   ]
  },
  {
   "cell_type": "code",
   "execution_count": 51,
   "metadata": {},
   "outputs": [
    {
     "data": {
      "text/plain": [
       "payloadSize  model     \n",
       "large        gemini-pro    8.740927\n",
       "medium       gemini-pro    5.242984\n",
       "small        gemini-pro    7.070709\n",
       "Name: latency, dtype: float64"
      ]
     },
     "execution_count": 51,
     "metadata": {},
     "output_type": "execute_result"
    }
   ],
   "source": [
    "google.groupby([\"payloadSize\", \"model\"])[\"latency\"].mean()"
   ]
  },
  {
   "cell_type": "code",
   "execution_count": 52,
   "metadata": {},
   "outputs": [
    {
     "data": {
      "text/plain": [
       "payloadSize  model                 \n",
       "large        gpt-3.5-turbo-1106        22.239211\n",
       "             gpt-3.5-turbo-instruct    27.628878\n",
       "             gpt-4                     23.321319\n",
       "medium       gpt-3.5-turbo-1106        12.668401\n",
       "             gpt-3.5-turbo-instruct    11.996795\n",
       "             gpt-4                     14.109368\n",
       "small        gpt-3.5-turbo-1106         6.090981\n",
       "             gpt-3.5-turbo-instruct     4.989646\n",
       "             gpt-4                      6.199499\n",
       "Name: latency, dtype: float64"
      ]
     },
     "execution_count": 52,
     "metadata": {},
     "output_type": "execute_result"
    }
   ],
   "source": [
    "openai.groupby([\"payloadSize\", \"model\"])[\"latency\"].mean()"
   ]
  },
  {
   "cell_type": "code",
   "execution_count": 53,
   "metadata": {},
   "outputs": [
    {
     "data": {
      "text/plain": [
       "payloadSize  model                               \n",
       "large        mistralai/mistral-7b-instruct-v0.2       3.387347\n",
       "             mistralai/mixtral-8x7b-instruct-v0.1    13.816210\n",
       "medium       mistralai/mistral-7b-instruct-v0.2       3.419838\n",
       "             mistralai/mixtral-8x7b-instruct-v0.1     8.722269\n",
       "small        mistralai/mistral-7b-instruct-v0.2       8.815446\n",
       "             mistralai/mixtral-8x7b-instruct-v0.1     9.970065\n",
       "Name: latency, dtype: float64"
      ]
     },
     "execution_count": 53,
     "metadata": {},
     "output_type": "execute_result"
    }
   ],
   "source": [
    "replicate.groupby([\"payloadSize\", \"model\"])[\"latency\"].mean()"
   ]
  },
  {
   "attachments": {},
   "cell_type": "markdown",
   "metadata": {},
   "source": [
    "## Max"
   ]
  },
  {
   "cell_type": "code",
   "execution_count": 54,
   "metadata": {},
   "outputs": [
    {
     "data": {
      "text/plain": [
       "payloadSize  model                        \n",
       "large        amazon.titan-text-express-v1     5.481581\n",
       "             amazon.titan-text-lite-v1        7.406859\n",
       "             cohere.command-light-text-v14         NaN\n",
       "             cohere.command-text-v14               NaN\n",
       "             meta.llama2-13b-chat-v1               NaN\n",
       "medium       amazon.titan-text-express-v1     4.941021\n",
       "             amazon.titan-text-lite-v1        4.614175\n",
       "             cohere.command-light-text-v14         NaN\n",
       "             cohere.command-text-v14               NaN\n",
       "             meta.llama2-13b-chat-v1               NaN\n",
       "small        amazon.titan-text-express-v1     4.692487\n",
       "             amazon.titan-text-lite-v1        4.942380\n",
       "             cohere.command-light-text-v14         NaN\n",
       "             cohere.command-text-v14               NaN\n",
       "             meta.llama2-13b-chat-v1               NaN\n",
       "Name: latency, dtype: float64"
      ]
     },
     "execution_count": 54,
     "metadata": {},
     "output_type": "execute_result"
    }
   ],
   "source": [
    "rock.groupby([\"payloadSize\", \"model\"])[\"latency\"].max()"
   ]
  },
  {
   "cell_type": "code",
   "execution_count": 55,
   "metadata": {},
   "outputs": [
    {
     "data": {
      "text/plain": [
       "payloadSize  model     \n",
       "large        gemini-pro    11.419937\n",
       "medium       gemini-pro     7.510025\n",
       "small        gemini-pro    11.465557\n",
       "Name: latency, dtype: float64"
      ]
     },
     "execution_count": 55,
     "metadata": {},
     "output_type": "execute_result"
    }
   ],
   "source": [
    "google.groupby([\"payloadSize\", \"model\"])[\"latency\"].max()"
   ]
  },
  {
   "cell_type": "code",
   "execution_count": 56,
   "metadata": {},
   "outputs": [
    {
     "data": {
      "text/plain": [
       "payloadSize  model                 \n",
       "large        gpt-3.5-turbo-1106        47.651133\n",
       "             gpt-3.5-turbo-instruct    55.672293\n",
       "             gpt-4                     30.017532\n",
       "medium       gpt-3.5-turbo-1106        22.892583\n",
       "             gpt-3.5-turbo-instruct    18.688669\n",
       "             gpt-4                     20.085894\n",
       "small        gpt-3.5-turbo-1106        11.135152\n",
       "             gpt-3.5-turbo-instruct     7.631495\n",
       "             gpt-4                      8.672417\n",
       "Name: latency, dtype: float64"
      ]
     },
     "execution_count": 56,
     "metadata": {},
     "output_type": "execute_result"
    }
   ],
   "source": [
    "openai.groupby([\"payloadSize\", \"model\"])[\"latency\"].max()"
   ]
  },
  {
   "cell_type": "code",
   "execution_count": 57,
   "metadata": {},
   "outputs": [
    {
     "data": {
      "text/plain": [
       "payloadSize  model                               \n",
       "large        mistralai/mistral-7b-instruct-v0.2       3.772851\n",
       "             mistralai/mixtral-8x7b-instruct-v0.1    15.228687\n",
       "medium       mistralai/mistral-7b-instruct-v0.2       3.536433\n",
       "             mistralai/mixtral-8x7b-instruct-v0.1    10.313117\n",
       "small        mistralai/mistral-7b-instruct-v0.2      30.738592\n",
       "             mistralai/mixtral-8x7b-instruct-v0.1    14.577257\n",
       "Name: latency, dtype: float64"
      ]
     },
     "execution_count": 57,
     "metadata": {},
     "output_type": "execute_result"
    }
   ],
   "source": [
    "replicate.groupby([\"payloadSize\", \"model\"])[\"latency\"].max()"
   ]
  },
  {
   "attachments": {},
   "cell_type": "markdown",
   "metadata": {},
   "source": [
    "# Qualitative Analysis"
   ]
  },
  {
   "cell_type": "markdown",
   "metadata": {},
   "source": []
  },
  {
   "cell_type": "code",
   "execution_count": null,
   "metadata": {},
   "outputs": [],
   "source": [
    "import pprint"
   ]
  },
  {
   "cell_type": "code",
   "execution_count": null,
   "metadata": {},
   "outputs": [],
   "source": []
  },
  {
   "cell_type": "code",
   "execution_count": null,
   "metadata": {},
   "outputs": [],
   "source": [
    "# Creating a dictionary to hold the responseBody for each model\n",
    "model_response_dict = google.groupby('model')['responseBody'].apply(list).to_dict()\n",
    "\n",
    "# Displaying the dictionary\n",
    "model_response_dict"
   ]
  },
  {
   "cell_type": "code",
   "execution_count": null,
   "metadata": {},
   "outputs": [],
   "source": [
    "# Creating a dictionary to hold the responseBody for each model\n",
    "model_response_dict = openai.groupby('model')['responseBody'].apply(list).to_dict()\n",
    "\n",
    "# Displaying the dictionary\n",
    "model_response_dict['gpt-4']"
   ]
  },
  {
   "cell_type": "code",
   "execution_count": 75,
   "metadata": {},
   "outputs": [
    {
     "data": {
      "text/plain": [
       "['{\\'inputTextTokenCount\\': 33, \\'results\\': [{\\'tokenCount\\': 128, \\'outputText\\': \\'\\\\nThe Houthis fired a missile at a shadow vessel carrying sanctioned Russian oil in the Red Sea, the U.S. Central Command said on Friday.\\\\nThe Houthi-controlled Yemeni army in a statement said the vessel was carrying oil produced by the Russian-backed separatist government in the southern port city of Hodeidah.\\\\n\"The Houthi-controlled Yemeni army fired a surface-to-sea missile at a ship carrying oil produced by the separatist government in the southern port city of Hodeidah,\" the statement said.\\\\nThe Central Command said the attack targeted\\', \\'completionReason\\': \\'LENGTH\\'}]}',\n",
       " '{\\'inputTextTokenCount\\': 33, \\'results\\': [{\\'tokenCount\\': 128, \\'outputText\\': \\'\\\\nThe Houthis claimed to have destroyed a \"shadow vessel\" carrying Russian oil in Yemen on Tuesday, hours after Russian President Vladimir Putin condemned the American strikes on the Houthi militia. The group, which controls Yemen\\\\\\'s capital, Sanaa, fired a missile at the vessel in the Bab al-Mandab Strait, according to a statement released by the Houthi-run Yemeni News Agency. The vessel was carrying oil from the Russian-backed separatist region of South Ossetia, according to the statement. The Houthis did not specify what kind of missile was used in the attack.\\', \\'completionReason\\': \\'LENGTH\\'}]}',\n",
       " '{\\'inputTextTokenCount\\': 33, \\'results\\': [{\\'tokenCount\\': 128, \\'outputText\\': \\'\\\\nU.S. and British airstrikes in Yemen targeted a ship carrying oil sanctioned by the United Nations after the Houthis took over the capital, Sanaa, last month. The attacks are the first American strikes on a country not involved in the conflict.\\\\nThe missiles hit the Saudi-owned oil tanker, the Sirius Star, which was carrying more than 2 million barrels of oil, the U.S. Central Command said. The tanker was not hit and was steaming toward the Red Sea, the command said.\\\\n\"The United States military conducted a successful defensive strike on an oil tanker in\\', \\'completionReason\\': \\'LENGTH\\'}]}',\n",
       " '{\\'inputTextTokenCount\\': 33, \\'results\\': [{\\'tokenCount\\': 106, \\'outputText\\': \"\\\\nThe United States and its allies have been pounding the Houthi-controlled Yemeni capital with airstrikes since March 26, in retaliation for the rebels\\' missile attacks on Saudi Arabia.\\\\nThe Houthis have been hit by more than 1,000 airstrikes since the coalition began its campaign, according to the United Nations.\\\\nThe conflict has killed more than 10,000 people, the majority of them civilians, and driven millions from their homes.\", \\'completionReason\\': \\'FINISH\\'}]}',\n",
       " '{\\'inputTextTokenCount\\': 33, \\'results\\': [{\\'tokenCount\\': 128, \\'outputText\\': \"\\\\nThe Houthis, an Iranian-backed group, claimed responsibility for the attack on a vessel carrying Russian oil in the Red Sea on Sunday.\\\\nThe missile attack was carried out by the Houthis\\' Al-Quds Brigades, which is responsible for attacks on Saudi Arabia\\'s oil infrastructure.\\\\nThe incident comes amid heightened tensions between the United States and Iran, which have been at odds over the situation in Yemen.\\\\nThe United States has been leading a coalition of Arab states in an air campaign against the Houthis in Yemen to try to reinstate the government of President Abd Rabbu Mansour Hadi.\\\\n\", \\'completionReason\\': \\'LENGTH\\'}]}',\n",
       " '{\\'inputTextTokenCount\\': 33, \\'results\\': [{\\'tokenCount\\': 128, \\'outputText\\': \\'\\\\n\\\\n\"The United States and its allies have blood on their hands. This is an attack on innocent civilians, and we will not stand by while innocent people are killed. We call on all parties to exercise maximum restraint and refrain from taking actions that could escalate the situation further. The Houthis must stop attacking vital infrastructure and allow humanitarian aid to reach those in need. We urge all parties to engage in meaningful dialogue to find a peaceful resolution to this conflict.\"\\\\n\\\\nThe United States and its allies have launched airstrikes on Houthi targets in Yemen, including a facility used to produce drones. The strikes come in response\\', \\'completionReason\\': \\'LENGTH\\'}]}',\n",
       " '{\\'inputTextTokenCount\\': 33, \\'results\\': [{\\'tokenCount\\': 128, \\'outputText\\': \\'\\\\n\\\\nThe Houthis, an Iran-backed movement in Yemen, claimed responsibility for the attack on the shadow vessel, which was carrying oil that was sanctioned by the United Nations. The missile strike occurred in the Bab el-Mandeb Strait, which connects the Red Sea to the Gulf of Aden. The attack came hours after Russia condemned the U.S. strikes on the Houthis and warned that they could lead to a \"regional catastrophe.\" In a statement, Russian Foreign Minister Sergey Lavrov said that the strikes were a violation of international law and warned that they could escalate the situation in the region. The Houth\\', \\'completionReason\\': \\'LENGTH\\'}]}',\n",
       " '{\\'inputTextTokenCount\\': 33, \\'results\\': [{\\'tokenCount\\': 128, \\'outputText\\': \"\\\\n\\\\nThe United States and its allies have been waging airstrikes on the Houthi-controlled Yemeni capital of Sanaa in retaliation for the Houthis\\' alleged missile attack on an oil tanker carrying a shipment of Russian oil. The Houthis claimed responsibility for the attack on the Saudi-owned oil tanker, which resulted in the release of a large amount of oil into the Red Sea. The United States and its allies have accused the Houthis of being responsible for the attack, which has caused significant damage to the environment and the global economy. The Houthis have denied the allegations\", \\'completionReason\\': \\'LENGTH\\'}]}',\n",
       " \"{'inputTextTokenCount': 33, 'results': [{'tokenCount': 128, 'outputText': '\\\\nThe Houthis, a Shiite militia in Yemen, claimed responsibility for the attack on a vessel carrying Russian oil in the Red Sea. The attack comes as tensions between the Houthis and the United States have escalated in recent weeks. The United States has been leading a coalition of Arab countries in an air campaign against the Houthis in Yemen, which has resulted in the deaths of thousands of civilians and the displacement of millions. The Houthis have denied allegations of civilian casualties and have accused the United States and its allies of targeting their oil infrastructure. The attack on the vessel carrying Russian oil is the latest in a series', 'completionReason': 'LENGTH'}]}\",\n",
       " \"{'inputTextTokenCount': 33, 'results': [{'tokenCount': 128, 'outputText': '\\\\nThe United States and its allies have been pounding the Houthi-controlled Yemeni capital of Sanaa with airstrikes for weeks in an attempt to stop the Iran-backed rebels from taking over the city.\\\\nThe Houthis have been battling the Saudi-backed government for control of Yemen for more than three years, and the conflict has killed tens of thousands of people.\\\\nThe United States has imposed sanctions on the Houthis and other Iranian-backed groups, including the Lebanese Shiite militia Hezbollah, for their alleged support of terrorism and human rights abuses.\\\\nThe Houthis have', 'completionReason': 'LENGTH'}]}\",\n",
       " \"{'inputTextTokenCount': 294, 'results': [{'tokenCount': 25, 'outputText': '\\\\nI’m sorry this is happening to her. It’s a tough time for a lot of people right now.', 'completionReason': 'FINISH'}]}\",\n",
       " \"{'inputTextTokenCount': 294, 'results': [{'tokenCount': 24, 'outputText': '\\\\nI’m so sorry this happened to her. I hope she’s able to find a new job quickly.', 'completionReason': 'FINISH'}]}\",\n",
       " \"{'inputTextTokenCount': 294, 'results': [{'tokenCount': 41, 'outputText': '\\\\nIt’s possible that she was one of the top performers, but the company’s financials were so bad that they had to cut costs somewhere and it had nothing to do with her performance.', 'completionReason': 'FINISH'}]}\",\n",
       " \"{'inputTextTokenCount': 294, 'results': [{'tokenCount': 22, 'outputText': '\\\\nOverall, this is a really bad situation for her. I’d start looking for a new job.', 'completionReason': 'FINISH'}]}\",\n",
       " \"{'inputTextTokenCount': 294, 'results': [{'tokenCount': 24, 'outputText': '\\\\nI’d start looking for a job. It sounds like they’re about to do a lot more layoffs.', 'completionReason': 'FINISH'}]}\",\n",
       " \"{'inputTextTokenCount': 294, 'results': [{'tokenCount': 41, 'outputText': '\\\\nThis is a terrible situation for her, and I’m sorry. But it’s also not the end of the world. She’s a great performer and will get offers from other companies.', 'completionReason': 'FINISH'}]}\",\n",
       " \"{'inputTextTokenCount': 294, 'results': [{'tokenCount': 128, 'outputText': '\\\\nI’m sorry this happened to her. It’s a shitty situation.\\\\n\\\\nEdit: typo\\\\n\\\\nChristine : I agree with all of this. I’ve been in a similar situation where my entire team was laid off and HR told us that it was performance based. It was a total mess. \\\\n\\\\nThe company had been losing money for years and they were trying to save money. They didn’t care about us.\\\\n\\\\nChristine : Also, I want to add that I’m sorry that this happened to you. It’s a shitty situation and I’m sorry you had to', 'completionReason': 'LENGTH'}]}\",\n",
       " \"{'inputTextTokenCount': 294, 'results': [{'tokenCount': 20, 'outputText': '\\\\nI’m sorry this happened. I’m sure you’ll find something better soon.', 'completionReason': 'FINISH'}]}\",\n",
       " \"{'inputTextTokenCount': 294, 'results': [{'tokenCount': 32, 'outputText': '\\\\nI’m sorry this is happening to her. It’s awful, but it’s also a good time to start looking for a new job.', 'completionReason': 'FINISH'}]}\",\n",
       " \"{'inputTextTokenCount': 294, 'results': [{'tokenCount': 21, 'outputText': '\\\\nNot legal advice, but as someone who has been in the HR weeds, this is my take.', 'completionReason': 'FINISH'}]}\",\n",
       " \"{'inputTextTokenCount': 1819, 'results': [{'tokenCount': 128, 'outputText': '\\\\n\\\\nAnimal Crossing: New Horizons\\\\n\\\\nMario + Rabbids: Sparks of Hope\\\\n\\\\nLuigi’s Mansion 3\\\\n\\\\nFire Emblem Engage\\\\n\\\\nThe Legend of Zelda: Tears of the Kingdom\\\\n\\\\nThe Legend of Zelda: Tears of the Kingdom\\\\n\\\\nDungeon Maker\\\\n\\\\nThe Legend of Zelda: Tears of the Kingdom\\\\n\\\\nDungeon Maker\\\\n\\\\nMario Kart 8 Deluxe\\\\n\\\\nSuper Mario Odyssey\\\\n\\\\nNintendo’s Switch has been a great system, but it’s time for the company to start thinking about its future. Nintendo has been on a roll lately', 'completionReason': 'LENGTH'}]}\",\n",
       " \"{'inputTextTokenCount': 1819, 'results': [{'tokenCount': 128, 'outputText': '\\\\n\\\\nThe 10 best Nintendo Switch games of all time\\\\nThe 10 best Nintendo Switch games of 2022\\\\nThe 10 best Nintendo Switch games of 2021\\\\nThe 10 best Nintendo Switch games of 2020\\\\nThe 10 best Nintendo Switch games of 2019\\\\nThe 10 best Nintendo Switch games of 2018\\\\n\\\\nThere are plenty of other Nintendo series that could still make their way to Switch, including Fire Emblem and Pokemon. But for now, these are the biggest Nintendo series that could miss the Switch', 'completionReason': 'LENGTH'}]}\",\n",
       " \"{'inputTextTokenCount': 1819, 'results': [{'tokenCount': 128, 'outputText': '\\\\n\\\\nThe 10 best Nintendo Switch games\\\\nThe 10 best Nintendo Switch games to play right now\\\\nThe best Nintendo Switch games of all time\\\\n\\\\nNintendo’s Switch Online service has been a mixed bag. It’s been a great way to play classic games on the go, but it’s also been a source of frustration for many fans. Nintendo has been slowly adding more NES games to the service, but it’s still missing some of the most iconic games in the system’s library. There’s a chance that Nintendo could use the NES app as a way to re-release some of', 'completionReason': 'LENGTH'}]}\",\n",
       " \"{'inputTextTokenCount': 1819, 'results': [{'tokenCount': 128, 'outputText': '\\\\n\\\\nThe Best Nintendo Switch Games\\\\nThe 10 Best Nintendo Switch Indie Games\\\\nThe Best Nintendo Switch Sports Games\\\\nThe Best Nintendo Switch Multiplayer Games\\\\nThe Best Nintendo Switch Games of All Time\\\\n\\\\nNintendo’s next system will likely be a hybrid. It’ll be a console that can be played both at home and on the go, just like the Switch. If that’s the case, Nintendo will have to decide how to treat its existing franchises. It’s likely that it’ll be able to port over its biggest games, but what about smaller ones like Dr. Mario?\\\\n\\\\nNintendo', 'completionReason': 'LENGTH'}]}\",\n",
       " \"{'inputTextTokenCount': 1819, 'results': [{'tokenCount': 128, 'outputText': '\\\\n\\\\nBest Nintendo Switch games\\\\n\\\\nBest Nintendo Switch games of 2023\\\\n\\\\nBest Nintendo Switch games of 2022\\\\n\\\\nBest Nintendo Switch games of 2021\\\\n\\\\nBest Nintendo Switch games of 2020\\\\n\\\\nBest Nintendo Switch games of 2019\\\\n\\\\nBest Nintendo Switch games of 2018\\\\n\\\\nBest Nintendo Switch games of 2017\\\\n\\\\nBest Nintendo Switch games of 2016\\\\n\\\\nBest Nintendo Switch games of 2015\\\\n\\\\nBest Nintendo Switch games of 2014\\\\n\\\\n', 'completionReason': 'LENGTH'}]}\",\n",
       " \"{'inputTextTokenCount': 1819, 'results': [{'tokenCount': 128, 'outputText': '\\\\n\\\\nStar Fox\\\\n\\\\nEarthbound\\\\n\\\\nPunch-Out!!\\\\n\\\\nRhythm Heaven\\\\n\\\\nKid Icarus\\\\n\\\\nDr. Mario\\\\n\\\\nNintendo has been a little more cautious with its IPs lately, but that’s likely a result of the company’s financial woes. The Switch’s library is massive, but it’s not as robust as the Wii U’s. Nintendo has had to be more selective with its game releases, which has led to a lot of Nintendo games being released on multiple platforms. That’s not necessarily a bad thing, but it means that some of Nintendo’', 'completionReason': 'LENGTH'}]}\",\n",
       " \"{'inputTextTokenCount': 1819, 'results': [{'tokenCount': 128, 'outputText': '\\\\n\\\\nNintendo Switch: 10 best games of 2023\\\\n10 best Nintendo Switch games of all time\\\\nNintendo Switch: 10 best games of 2022\\\\n\\\\nThe Nintendo Switch has been a huge success, but it’s not without its flaws. One of the biggest is its lack of third-party support. While the system has been able to make a name for itself through its first-party games, it’s struggled to get third-party developers to make games for it. That’s led to a lack of big-name games on the system, with', 'completionReason': 'LENGTH'}]}\",\n",
       " \"{'inputTextTokenCount': 1819, 'results': [{'tokenCount': 128, 'outputText': '\\\\n\\\\nThe Best Nintendo Switch Games\\\\n\\\\nThe Best Nintendo Switch Games of All Time\\\\n\\\\nThe 10 Best Nintendo Switch Games of 2023\\\\n\\\\nThe Best Nintendo Switch Games of 2022\\\\n\\\\nThe Best Nintendo Switch Games of 2021\\\\n\\\\nThe Best Nintendo Switch Games of 2020\\\\n\\\\nThe Best Nintendo Switch Games of 2019\\\\n\\\\nThe Best Nintendo Switch Games of 2018\\\\n\\\\nThe Best Nintendo Switch Games of 2017\\\\n\\\\nThe Best Nintendo Switch Games of 2016\\\\n\\\\nThe Best', 'completionReason': 'LENGTH'}]}\",\n",
       " \"{'inputTextTokenCount': 1819, 'results': [{'tokenCount': 128, 'outputText': '\\\\n\\\\nThe Nintendo Switch has been out for nearly five years, and it’s time to reflect on its best games.\\\\n\\\\nDonkey Kong Country: Tropical Freeze\\\\n\\\\nDonkey Kong Country: Tropical Freeze is a great example of how to make a modern 2D platformer.\\\\n\\\\nThe Legend of Zelda: Tears of the Kingdom\\\\n\\\\nThe Legend of Zelda: Tears of the Kingdom is a great game that pushes the Switch to its limits.\\\\n\\\\nSuper Mario Odyssey\\\\n\\\\nSuper Mario Odyssey is the best Mario game in years.\\\\n\\\\nMario + Rabbids: Sparks of Hope\\\\n\\\\nM', 'completionReason': 'LENGTH'}]}\",\n",
       " \"{'inputTextTokenCount': 1819, 'results': [{'tokenCount': 128, 'outputText': '\\\\n\\\\nThese are the best Nintendo Switch games you can play right now\\\\n\\\\nThese are the best games of the decade so far\\\\n\\\\nThese are the best Nintendo Switch games for kids\\\\n\\\\nThese are the best Nintendo Switch games for adults\\\\n\\\\nThese are the best Nintendo Switch games for everyone\\\\n\\\\nF-Zero\\\\n\\\\nThe F-Zero series is another one that has been absent from the Nintendo Switch. The futuristic racing series was a staple of the Nintendo 64 and GameCube, appearing in every console’s library. The series has only had one entry on the Nintendo Switch, F-Zero X, which launched', 'completionReason': 'LENGTH'}]}\"]"
      ]
     },
     "execution_count": 75,
     "metadata": {},
     "output_type": "execute_result"
    }
   ],
   "source": [
    "# Creating a dictionary to hold the responseBody for each model\n",
    "model_response_dict = rock.groupby('model')['responseBody'].apply(list).to_dict()\n",
    "\n",
    "# Displaying the dictionary\n",
    "model_response_dict['amazon.titan-text-lite-v1']"
   ]
  },
  {
   "cell_type": "code",
   "execution_count": 78,
   "metadata": {},
   "outputs": [
    {
     "data": {
      "text/plain": [
       "['\\n\\n\\n\\n\\n\\n\\n\\n\\n\\n\\n\\n\\n\\n\\n\\n\\n\\n\\n\\n\\n\\n\\n\\n\\n\\n\\n\\n\\n\\n\\n\\n\\n\\n\\n\\n\\n📰 Title: Houthis Target Russian Oil Shipment Amidst Rising Tensions\\n\\nThe conflict in Yemen took a dangerous turn as the Iran-aligned Houthis fired a missile at a shadow vessel carrying sanctioned Russian oil. This incident occurred just hours after Russia condemned U.S. strikes on Houthi targets.\\n\\nThe shadow vessel, owned by a Russian company, was transporting oil that had been sanctioned by the international community. The attack marks an escalation in the conflict, as the Houthis continue to defy international pressure and demonstrate their military capabilities.\\n\\nThe Russian company, which has not been named, has released a statement condemning the attack and calling for an immediate end to the violence. Meanwhile, the Russian government has summoned the U.S. ambassador to Moscow to discuss the situation and express its strong disapproval of the U.S. strikes on Houthi targets.\\n\\nThis latest incident has raised concerns about the potential for a wider conflict in the region, as tensions between the U.S. and Russia continue to rise. The international community is calling for restraint and a peaceful resolution to the conflict, as the humanitarian crisis in Yemen continues to worsen.\\n\\nThe U.N. has condemned the attack and urged all parties to the conflict to engage in peaceful negotiations. The U.N. special envoy for Yemen, Hans Grundberg, has expressed his concern about the escalation of violence and the impact it will have on the civilian population.\\n\\nThe U.S. has defended its strikes on Houthi targets, stating that they were necessary to protect U.S. interests in the region. However, the Russian government has accused the U.S. of escalating the conflict and called for an immediate end to the violence.\\n\\nThe international community must work together to find a peaceful resolution to the conflict in Yemen. The humanitarian crisis in the country is already one of the worst in the world, and further violence will only make the situation worse. It is essential that all parties to the conflict engage in meaningful negotiations and work towards a peaceful resolution.\\n\\nIn the meantime, the international community must continue to condemn attacks on civilian targets and work to ensure the safety and security of all those affected by the conflict. The U.N. and other international organizations must continue to provide humanitarian aid to those in need, and the international community must work',\n",
       " '\\n\\n\\n\\n\\n\\n\\n\\n\\n\\n\\n\\n\\n\\n\\n\\n\\n\\n\\n\\n\\n\\n\\n\\n\\n\\n\\n\\n\\n\\n\\n\\n\\n\\n\\n\\n\\n\\n observations:\\nThe information in the statement is not supported by reliable sources at this time. I cannot confirm that the Houthis have fired a missile at a shadow vessel carrying Russian oil, or that Russia has condemned U.S. strikes on the Houthis. It is important to verify information from multiple reputable sources before reporting on it.\\n\\nContext:\\nThe Houthis are a rebel group based in Yemen, who have been fighting against the Yemeni government and a Saudi-led coalition since 2015. The group has been known to launch missile attacks on Saudi Arabia and its allies. Russia has been critical of US strikes on the Houthis, accusing the US of escalating the conflict.\\n\\nHowever, I cannot confirm if Russia has condemned US strikes on the Houthis hours before this alleged missile attack.\\n\\nIt is important to note that this information is not confirmed and should not be taken as fact without further verification.',\n",
       " '\\n\\n\\n\\n\\n\\n\\n\\n\\n\\n\\n\\n\\n\\n\\n\\n\\n\\n\\n\\n\\n\\n\\n\\n\\n\\n\\n\\n\\n\\n\\n\\n\\n\\n\\n\\n\\n\\n\\n observations:\\n\\n* The first sentence is a statement of fact, but it lacks context. It would be helpful to specify who the Houthis are, where the missile was fired from and where the shadow vessel was located. It would also be useful to know whether the missile hit the vessel and what the intended target was.\\n* The second sentence is also a statement of fact, but again, it lacks context. It would be helpful to specify what U.S. strikes on the Houthis Russia was condemning and when those strikes occurred.\\n\\nContext:\\n\\nThe Houthis are a rebel group in Yemen who have been fighting against the government since 2014. They are backed by Iran and have been designated as a foreign terrorist organization by the United States.\\n\\nOn October 12, 2021, it was reported that the Houthis had fired a missile at a shadow vessel carrying Russian oil in the Red Sea. The vessel was reportedly not damaged in the attack.\\n\\nHours before the attack, Russia had condemned recent U.S. strikes on the Houthis in Yemen. The U.S. has been carrying out strikes against the Houthis in response to a series of attacks by the group on civilian targets in Saudi Arabia.\\n\\nIt is not clear whether there is a connection between the Russian condemnation of the U.S. strikes and the Houthi missile attack on the Russian oil vessel.',\n",
       " \"\\n\\n\\n\\n\\n\\n\\n\\n\\n\\n\\n\\n\\n\\n\\n\\n\\n\\n\\n\\n\\n\\n\\n\\n\\n\\n\\n\\n\\n\\n\\n\\n\\n\\n\\n\\n\\n\\n\\n\\n observation: It seems that you are referring to recent events involving the Houthis, a rebel group in Yemen, and Russia.\\n\\nAccording to reports, the Houthis launched a missile attack on a ship near the Red Sea port of Hodeidah on March 3, 2023. The ship was a tanker carrying Russian oil that was reportedly bound for a refinery in Syria. The attack did not result in any casualties or significant damage to the vessel.\\n\\nThe Houthis have claimed responsibility for the attack, stating that it was a response to the U.S. strikes on their targets in Yemen. The U.S. has carried out several drone strikes on Houthi targets in recent weeks, in response to the group's escalating attacks on Saudi Arabia.\\n\\nRussia has condemned the U.S. strikes on the Houthis, calling them a violation of Yemen's sovereignty and a threat to regional stability. Moscow has also expressed concern over the safety of shipping in the Red Sea and the Bab al-Mandab strait, a vital chokepoint for global oil shipments.\\n\\nIt is worth noting that the situation in Yemen is complex and involves a multitude of actors, including the Saudi-led coalition, the Yemeni government, the Houthis, and various regional and international powers. The conflict has resulted in a humanitarian crisis, with millions of people in need of aid and protection.\",\n",
       " \"\\n\\n\\n\\n\\n\\n\\n\\n\\n\\n\\n\\n\\n\\n\\n\\n\\n\\n\\n\\n\\n\\n\\n\\n\\n\\n\\n\\n\\n\\n\\n\\n\\n\\n\\n\\n\\n\\n\\n\\n\\n📰 Title: Houthis Fire Missile at Ship Carrying Russian Oil Amid Rising Tensions\\n\\nThe Houthis, a rebel group based in Yemen, have reportedly fired a missile at a ship carrying Russian oil. This incident comes just hours after Russia condemned U.S. strikes on the Houthis, adding to the growing tensions in the region.\\n\\nAccording to sources, the shadow vessel was transporting sanctioned Russian oil through the Red Sea when it was targeted by the Houthis. The attack did not result in any casualties or significant damage to the ship. However, this incident has raised concerns over the escalating conflict and the potential impact on global oil markets.\\n\\nRussia has been a vocal critic of U.S. involvement in the Yemeni conflict, accusing the U.S. of exacerbating the situation by supporting the Saudi-led coalition. In response to the U.S. strikes, Russia's foreign ministry released a statement denouncing the attacks and calling for an immediate ceasefire.\\n\\nThe timing of the Houthis' missile attack on the Russian ship has raised questions about the group's motives and whether it was intended as a response to Russia's condemnation of the U.S. strikes. The Houthis have not yet released an official statement regarding the incident.\\n\\nThis latest development underscores the complex and volatile nature of the conflict in Yemen, which has resulted in a humanitarian crisis and left millions of people in need of aid. The international community has called for a peaceful resolution to the conflict, but a lasting solution remains elusive.\\n\\nAs tensions continue to rise, the global community will be closely watching the situation in Yemen and the potential impact on regional stability and oil markets. It is crucial that all parties involved work towards a peaceful resolution to the conflict and prioritize the well-being of the Yemeni people.\\n\\n#Yemen #Houthis #Russia #oil #conflict #humanitariancrisis #peaceresolution\",\n",
       " \"\\n\\n\\n\\n\\n\\n\\n\\n\\n\\n\\n\\n\\n\\n\\n\\n\\n\\n\\n\\n\\n\\n\\n\\n\\n\\n\\n\\n\\n\\n\\n\\n\\n\\n\\n\\n\\n\\n\\n\\n\\n\\n observation: It seems that you are referring to recent events involving the Houthis, a rebel group in Yemen, and Russia.\\n\\nHere are some possible actions you could consider in response to this observation:\\n\\n1. Investigate further: Look for more information about the incident, including the type of missile used, the damage caused, and any casualties or injuries. Also, try to find out why the vessel was carrying sanctioned Russian oil and whether there were any connections between the Houthis and Russia.\\n2. Analyze the motivations: Consider why the Houthis might have targeted a Russian ship carrying sanctioned oil. Is it a signal to Russia, the US, or the international community? Is it a response to the US strikes on the Houthis or a broader conflict in the region?\\n3. Evaluate the implications: Think about the potential consequences of this incident for the region and beyond. Will it escalate the conflict between the Houthis and the Saudi-led coalition? Will it affect the oil market or the sanctions against Russia?\\n4. Monitor the reactions: Keep an eye on the responses from Russia, the US, the UN, and other relevant actors. Will they condemn or condone the Houthis' actions? Will they take any retaliatory or preventive measures?\\n5. Consider the policy options: Based on your analysis, suggest some policy options for the US, Russia, or other actors. For example, the US could increase its support for the Saudi-led coalition or engage in diplomatic efforts to de-escalate the conflict. Russia could distance itself from the Houthis or use its influence to prevent further attacks. The UN could call for a ceasefire or a negotiated settlement.\",\n",
       " \"\\n\\n\\n\\n\\n\\n\\n\\n\\n\\n\\n\\n\\n\\n\\n\\n\\n\\n\\n\\n\\n\\n\\n\\n\\n\\n\\n\\n\\n\\n\\n\\n\\n\\n\\n\\n\\n\\n\\n\\n\\n\\n\\n🔔 I am a text-based AI model and I don't have real-time information or the ability to browse the internet. However, I can try to help you with any questions or analysis you might have about the situation based on the information provided.\\n\\nThe Houthis, a rebel group based in Yemen, have reportedly fired a missile at a ship carrying Russian oil. This comes just hours after Russia condemned US strikes on the Houthis. This situation could be seen as a potential escalation in the conflict in Yemen, as well as a possible point of tension between Russia and the US.\\n\\nThere could be several reasons behind the Houthis' actions, such as:\\n\\n* Retaliation for the US strikes on their forces.\\n* A show of force to demonstrate their capabilities and deter further attacks.\\n* A statement of defiance against the international community, particularly countries that support the Yemeni government.\\n\\nRussia's response to the incident will be interesting to observe, as it has previously criticized US involvement in Yemen and called for a political solution to the conflict. If Russia perceives the US strikes on the Houthis as an escalation, it may use this incident as an opportunity to further denounce US actions and rally support from other countries.\\n\\nIt's important to note that this situation is still developing, and more information will likely emerge in the coming hours and days. Analysts and observers will be closely monitoring the responses of the various actors involved and assessing the potential implications for the region and beyond.\",\n",
       " \"\\n\\n\\n\\n\\n\\n\\n\\n\\n\\n\\n\\n\\n\\n\\n\\n\\n\\n\\n\\n\\n\\n\\n\\n\\n\\n\\n\\n\\n\\n\\n\\n\\n\\n\\n\\n\\n\\n\\n\\n\\n\\n\\n\\n📰 Title: Houthis Fire Missile at Ship Carrying Russian Oil After Russia Condemns U.S. Strikes\\n\\nThe conflict in Yemen took a new turn as the Iranian-backed Houthi rebels fired a missile at a shadow vessel transporting sanctioned Russian oil. This incident occurred just hours after Russia criticized the United States for its strikes on Houthi targets.\\n\\nAccording to reports, the shadow vessel was in international waters when the Houthi missile struck, causing damage but no casualties. The vessel was carrying oil that had been sanctioned by the international community due to the ongoing conflict in Yemen.\\n\\nThe Russian Foreign Ministry had earlier condemned the U.S. airstrikes on Houthi targets, claiming that they were escalating the conflict and causing harm to civilians. This latest incident, however, has further complicated the already tense situation in the region.\\n\\nAnalysts suggest that the Houthis may have targeted the Russian ship in response to Russia's support for the Saudi-led coalition that has been fighting against the rebels in Yemen. The attack also highlights the growing tensions between the U.S. and Iran, as well as the complex web of alliances and conflicts in the region.\\n\\nAs the situation continues to unfold, it remains to be seen how the international community will respond to this latest development. The U.N. Security Council is expected to hold an emergency meeting to discuss the incident and its implications for regional stability.\\n\\nThe international community must work together to find a peaceful resolution to the conflict in Yemen and prevent further escalation of tensions in the region. The safety and security of civilians must be the top priority, and all parties must refrain from actions that could lead to further violence and instability.\",\n",
       " '\\n\\n\\n\\n\\n\\n\\n\\n\\n\\n\\n\\n\\n\\n\\n\\n\\n\\n\\n\\n\\n\\n\\n\\n\\n\\n\\n\\n\\n\\n\\n\\n\\n\\n\\n\\n\\n\\n\\n\\n\\n\\n\\n\\n\\n curt headline, but I\\'ll do my best to provide a helpful and informative response.\\n\\nFirst, some context: the Houthis are a rebel group based in Yemen, who have been fighting a civil war against the Yemeni government since 2014. The conflict has escalated into a regional proxy war, with Saudi Arabia and the United Arab Emirates supporting the government, and Iran providing support to the Houthis.\\n\\nIn recent years, the Houthis have launched missile attacks against Saudi Arabia and the UAE, as well as shipping vessels in the Red Sea. The United States has also carried out drone strikes against the Houthis, which it views as a terrorist organization.\\n\\nRegarding the recent incident, it is true that the Houthis fired a missile at a ship in the Red Sea, which was reportedly carrying Russian oil. However, it is not clear whether the ship was a \"shadow vessel\" or not. A shadow vessel is a type of ship that is used to transport goods covertly, often to evade sanctions or other restrictions. It is possible that the ship was a shadow vessel, but this has not been confirmed.\\n\\nIt is also true that Russia has condemned recent U.S. strikes on the Houthis. Russia has been a vocal critic of U.S. involvement in the Yemeni conflict, and has called for a political solution to the crisis. However, it is not clear whether there is a direct connection between Russia\\'s condemnation of U.S. strikes and the Houthis\\' attack on the ship.\\n\\nIn summary, while it is true that the Houthis fired a missile at a ship carrying Russian oil, it is not clear whether the ship was a \"shadow vessel\" or not. It is also true that Russia has condemned recent U.S. strikes on the Houthis, but it is not clear whether there is a direct connection between the two events.',\n",
       " \"\\n\\n\\n\\n\\n\\n\\n\\n\\n\\n\\n\\n\\n\\n\\n\\n\\n\\n\\n\\n\\n\\n\\n\\n\\n\\n\\n\\n\\n\\n\\n\\n\\n\\n\\n\\n\\n\\n\\n\\n\\n\\n\\n\\n\\n\\n���ihoodi1018 here, your helpful and respectful AI assistant. I'm here to provide you with accurate and engaging content. Regarding your query, I can offer you a neutral and informative response.\\n\\nIt appears that there have been recent developments involving the Houthis, a rebel group based in Yemen, and a Russian oil tanker. According to reports, the Houthis launched a missile attack on a shadow vessel carrying sanctioned Russian oil. This incident occurred just hours after Russia criticized the United States for conducting strikes against the Houthis.\\n\\nIt's important to note that this information is based on preliminary reports, and the situation may still be developing. The motivations behind the Houthis' actions and their potential connections to recent geopolitical events are not yet clear. As such, it's crucial to approach this topic with a nuanced understanding and to avoid making hasty judgments or drawing premature conclusions.\\n\\nI hope this response provides you with a helpful and informative overview of the situation. If you have any further questions or concerns, please don't hesitate to ask!\",\n",
       " \"\\n\\n\\n\\n\\n\\n\\n\\n\\n\\n\\n\\n\\n\\n\\n\\n\\n\\n\\n\\n\\n\\n\\n\\n\\n\\n\\n\\n\\n\\n\\n\\n\\n\\n\\n\\n\\n\\n\\n\\n\\n\\n\\n\\n\\n\\n\\n1. It does seem that the company is making significant changes to their sales organization, and it may be that only a small percentage of the staff is being retained. This situation is indeed unfortunate for the individual who was let go, and it is possible that meeting the performance bar was challenging. However, without further information, it is difficult to make a definitive assessment.\\n2. It is possible that the two HR representatives who delivered the news to the individual were not involved in the decision-making process and were simply tasked with communicating the decision. Alternatively, it could be that the individual's manager and others in management were also let go.\\n3. The HR team may have been provided with a list of names to contact and may not have been privy to the specific reasons behind each individual's termination. It is understandable that this would not be a desirable position to be in, but it may have been necessary due to the scale of the changes being made.\\n4. The fact that the company is emphasizing that the terminations are performance-based and not layoffs is notable. This language could be an attempt to avoid regulations related to the Worker Adjustment and Retraining Notification (WARN) Act, which requires employers to provide advance notice of mass layoffs or plant closings. Additionally, emphasizing performance may be a justification for not providing severance pay. It is unusual for this level of detail to be provided during a termination meeting, so the company may have had a specific reason for doing so.\",\n",
       " \"\\n\\n\\n\\n\\n\\n\\n\\n\\n\\n\\n\\n\\n\\n\\n\\n\\n\\n\\n\\n\\n\\n\\n\\n\\n\\n\\n\\n\\n\\n\\n\\n\\n\\n\\n\\n\\n\\n\\n\\n\\n\\n\\n\\n\\n\\n\\n\\n1. It does seem that the company is making significant changes to their sales organization, and it may be that only a small percentage of the staff is being retained. This situation is indeed unfair to the individual in question, as it may have been difficult for her to meet the high performance standards set by the company. However, without more information, it is difficult to make a definitive judgement.\\n2. The fact that the HR representatives who delivered the news are not familiar with the individual suggests that there may have been a large-scale restructuring of the company's management. It is possible that her manager and other senior leaders have also been let go.\\n3. The HR team was likely tasked with delivering the news to a large number of employees, and may not have been privy to the specific decision-making process that led to some individuals being retained and others being let go. This is a challenging position for the HR team to be in, but may have been necessary in order to avoid a mass firing in a large group setting.\\n4. The fact that the company is emphasizing that the decision is performance-based and not a layoff suggests that they may be trying to avoid regulations around the WARN act or other employment laws. Additionally, this language may be used to justify not providing severance pay to the affected employees. It is unusual for the company to provide this level of detail in such a conversation, which suggests that there may be a specific legal or strategic reason for doing so.\",\n",
       " \"\\n\\n\\n\\n\\n\\n\\n\\n\\n\\n\\n\\n\\n\\n\\n\\n\\n\\n\\n\\n\\n\\n\\n\\n\\n\\n\\n\\n\\n\\n\\n\\n\\n\\n\\n\\n\\n\\n\\n\\n\\n\\n\\n\\n\\n\\n\\n\\n\\n1. You're correct that the situation seems to be dire, with the company letting go of a significant portion of the sales org. It's possible that the performance bar was set very high, and it may have been challenging for many employees to meet it. However, it's essential to recognize that the employee in question may have been an exceptional performer, and it's unfortunate that they were caught up in the restructuring.\\n2. The fact that the HR team members who delivered the news to the employee were not familiar with her could indicate that there was a significant turnover in management. It's possible that her manager and possibly even their manager were also let go, which could have contributed to the lack of personal connection during the call.\\n3. The HR team was likely following instructions and delivering news to a list of employees who were selected for termination. It's possible that they were not involved in the decision-making process and were only responsible for communicating the news. While it may not have been an enjoyable experience for them, it could have been the most practical alternative to a mass firing in a large Zoom meeting.\\n4. The company's clarity that the terminations were performance-based and not layoffs is a strategic move. It could be an attempt to avoid regulations around the Worker Adjustment and Retraining Notification (WARN) Act, which requires employers to provide advance notice of mass layoffs or plant closings. Alternatively, it could be used as justification for providing no severance pay to the terminated employees. However, it's worth noting that the company still has an obligation to provide accurate and truthful information, and making false statements could lead to legal consequences.\",\n",
       " \"\\n\\n\\n\\n\\n\\n\\n\\n\\n\\n\\n\\n\\n\\n\\n\\n\\n\\n\\n\\n\\n\\n\\n\\n\\n\\n\\n\\n\\n\\n\\n\\n\\n\\n\\n\\n\\n\\n\\n\\n\\n\\n\\n\\n\\n\\n\\n\\n\\n\\n1. It does seem that the company is making significant changes to their sales organization, and it may be that only a small percentage of the staff is being retained. This situation is indeed unfortunate for the individual who was let go, and it may be that the performance bar was set very high. However, without more information, it is difficult to make a definitive assessment.\\n2. The fact that the HR team members who delivered the news do not know the individual personally could suggest that there has been a significant turnover in management. Alternatively, it could be that the HR team was simply tasked with delivering the news and did not have a role in the decision-making process.\\n3. It is possible that the HR team was provided with a list of names to contact and did not have a detailed understanding of the decision-making process that led to some individuals being retained while others were let go. This can be a difficult position to be in, but it may have been necessary in order to avoid a mass firing in a large Zoom meeting.\\n4. The fact that the company is emphasizing that the decision was based on performance and not a layoff could be an attempt to avoid regulations around the WARN act or to justify giving no severance. However, it is also possible that the company is simply being transparent about the reasons for the individual's termination. It is not uncommon for companies to provide some context during these types of calls, but it is unusual for the conversation to take the turn that it did in this case.\",\n",
       " \"\\n\\n\\n\\n\\n\\n\\n\\n\\n\\n\\n\\n\\n\\n\\n\\n\\n\\n\\n\\n\\n\\n\\n\\n\\n\\n\\n\\n\\n\\n\\n\\n\\n\\n\\n\\n\\n\\n\\n\\n\\n\\n\\n\\n\\n\\n\\n\\n\\n\\n\\n1. You're correct that the situation seems to be more about identifying top performers and letting go of the rest, rather than evaluating individual performance. It's possible that the performance bar was set very high, making it difficult for many to meet. However, without more information, it's hard to make a definitive judgement.\\n2. It's possible that the HR team was not closely involved in the decision-making process and were simply tasked with delivering the news to the affected employees. Alternatively, the fact that two HR representatives were present could indicate that many managers and leaders were also let go.\\n3. It's understandable that the HR team may not have had a full understanding of the decision-making process that led to certain employees being let go. However, it's important for them to communicate clearly and empathetically with affected employees, even if they don't have all the answers.\\n4. The fact that the company is emphasizing that the decision is performance-based and not a layoff could be an attempt to avoid legal obligations such as the WARN act. Additionally, it could be used as justification for not offering severance pay. However, it's also possible that the company is genuinely trying to be transparent and upfront about the reasons for the layoffs.\",\n",
       " \"\\n\\n\\n\\n\\n\\n\\n\\n\\n\\n\\n\\n\\n\\n\\n\\n\\n\\n\\n\\n\\n\\n\\n\\n\\n\\n\\n\\n\\n\\n\\n\\n\\n\\n\\n\\n\\n\\n\\n\\n\\n\\n\\n\\n\\n\\n\\n\\n\\n\\n\\n\\n1. It does seem that the company is making significant changes to their sales organization, and it may be that only a small percentage of the staff is being retained. This situation is indeed unfair to the individual who was let go, as it may have been difficult for her to meet the high performance standards set by the company. However, without further information, it is hard to determine the specific reasons behind her termination.\\n2. The fact that the HR team members who delivered the news to the individual are not familiar with her could indicate that there has been a large-scale turnover in management, and her manager and possibly even their manager may no longer be with the company.\\n3. The HR team may have been provided with a list of names to contact and may not have been involved in the decision-making process. Their role in this situation may have been to communicate the news to the affected employees, which can be a challenging task.\\n4. The company's emphasis on the performance-based nature of the terminations suggests that they may be trying to avoid regulations related to layoffs and may be justifying the decision to provide no severance pay. It is unusual for a company to provide this level of detail during a termination meeting, which may indicate a desire to be transparent about the reasons for the individual's termination.\",\n",
       " '\\n\\n\\n\\n\\n\\n\\n\\n\\n\\n\\n\\n\\n\\n\\n\\n\\n\\n\\n\\n\\n\\n\\n\\n\\n\\n\\n\\n\\n\\n\\n\\n\\n\\n\\n\\n\\n\\n\\n\\n\\n\\n\\n\\n\\n\\n\\n\\n\\n\\n\\n\\n\\n1. It does seem that the company is making significant changes to their sales organization, and it may be that only a small percentage of the team is being kept. This situation is indeed unfair to the individual who was let go, as it may have been difficult for her to meet the high performance bar required to stay. However, without more information, it is hard to make a definitive judgement.\\n2. The fact that the HR team members who delivered the news do not know the individual personally could indicate that there has been a significant turnover in management, and that her manager and possibly others above her in the hierarchy have also been let go.\\n3. The HR team was likely provided with a list of names to notify and may not have been involved in the decision-making process. This is a challenging position to be in, but it may have been necessary to avoid a mass firing in a large Zoom meeting.\\n4. The fact that the company is emphasizing that the decision is performance-based and not a layoff could be an attempt to avoid regulations around the WARN act or as justification for not providing severance pay. It is unusual for this level of detail to be provided in such a call, which suggests that there is a specific reason for this emphasis.',\n",
       " \"\\n\\n\\n\\n\\n\\n\\n\\n\\n\\n\\n\\n\\n\\n\\n\\n\\n\\n\\n\\n\\n\\n\\n\\n\\n\\n\\n\\n\\n\\n\\n\\n\\n\\n\\n\\n\\n\\n\\n\\n\\n\\n\\n\\n\\n\\n\\n\\n\\n\\n\\n\\n\\n\\n1. It does seem that the company is making significant changes to their sales organization, and it may be that only a small percentage of the staff will remain. It is possible that the performance bar was set very high, and it may have been challenging for many employees to meet it. However, it is understandable that the individual in this situation feels it is unfair.\\n2. It is concerning that the HR representatives who delivered the news to the individual were not familiar with her or her work. This may indicate that there was a large-scale reorganization, and many managers and leaders may have also been let go.\\n3. The HR team was likely given a list of names to contact and may not have been involved in the decision-making process. It is a difficult position to be in, and they may have been following instructions given to them.\\n4. The fact that the company is emphasizing that the decision is performance-based and not a layoff could be strategic. It may help the company avoid regulations around the Worker Adjustment and Retraining Notification (WARN) Act, which requires employers to provide advance notice of mass layoffs or plant closings. Additionally, it may provide justification for not offering severance pay to the affected employees. However, it is worth noting that the company's communication during this process could have been more transparent and empathetic.\",\n",
       " \"\\n\\n\\n\\n\\n\\n\\n\\n\\n\\n\\n\\n\\n\\n\\n\\n\\n\\n\\n\\n\\n\\n\\n\\n\\n\\n\\n\\n\\n\\n\\n\\n\\n\\n\\n\\n\\n\\n\\n\\n\\n\\n\\n\\n\\n\\n\\n\\n\\n\\n\\n\\n\\n\\n\\n1. It does seem that the company is making significant changes to their sales organization, and it may be that only a small percentage of the staff is being retained. This situation is indeed unfortunate for the individual who is being let go, and it is possible that meeting the performance bar was challenging. However, without additional information, it is difficult to make a definitive assessment.\\n2. It is possible that the two HR representatives who delivered the news to the individual were not involved in the decision-making process and were simply tasked with communicating the decision. Alternatively, it could be that the individual's manager and other senior leaders were also let go, which could explain why the HR representatives were not familiar with the individual's work.\\n3. It is common for HR teams to be involved in employee separations, and they may not always have a detailed understanding of the decision-making process. In this case, the HR team may have been provided with a list of names and instructed to communicate the decision to those individuals. It is understandable that this would not be a desirable position for the HR team to be in.\\n4. The fact that the company is emphasizing that the separation is performance-based and not a layoff could be significant. This language could be used to avoid triggering regulations around the Worker Adjustment and Retraining Notification (WARN) Act, which requires employers to provide advance notice of mass layoffs or plant closings. Additionally, emphasizing performance as the reason for the separation could be used to justify not providing severance pay. However, without more information, it is difficult to say for certain why this language was used.\",\n",
       " '\\n\\n\\n\\n\\n\\n\\n\\n\\n\\n\\n\\n\\n\\n\\n\\n\\n\\n\\n\\n\\n\\n\\n\\n\\n\\n\\n\\n\\n\\n\\n\\n\\n\\n\\n\\n\\n\\n\\n\\n\\n\\n\\n\\n\\n\\n\\n\\n\\n\\n\\n\\n\\n\\n\\n\\n1. It does seem that the company is making significant changes to their sales organization, and it may be that only a small percentage of the staff is being retained. This could be due to poor performance, but without more information it is difficult to say for certain. It is possible that the performance bar was set very high and it was challenging for many employees to meet it.\\n2. It is concerning that the HR representatives who delivered the news to the employee are not familiar with her or her work. This could indicate that her manager and possibly other higher-ups in the organization have also been let go.\\n3. It is understandable that the HR team was tasked with delivering difficult news to a large number of employees and may not have been fully briefed on the reasons behind the decisions. However, it is still important for them to handle the situation with sensitivity and professionalism.\\n4. It is notable that the company is emphasizing that the decisions are based on performance and not a layoff. This could be an attempt to avoid regulations around the WARN act or to justify not offering severance pay. It is also possible that the company is trying to protect its reputation by emphasizing that the decisions were based on performance and not cost-cutting measures.',\n",
       " \"\\n\\n\\n\\n\\n\\n\\n\\n\\n\\n\\n\\n\\n\\n\\n\\n\\n\\n\\n\\n\\n\\n\\n\\n\\n\\n\\n\\n\\n\\n\\n\\n\\n\\n\\n\\n\\n\\n\\n\\n\\n\\n\\n\\n\\n\\n\\n\\n\\n\\n\\n\\n\\n\\n\\n\\n\\n1. Star Fox: Despite being a major Nintendo franchise, Star Fox has yet to make an appearance on the Switch. The space shooter series has been a staple on Nintendo consoles since 1993, but it seems to have been skipped over on the Switch. The failure of Star Fox Zero on the Wii U may have left Nintendo hesitant to release a new Star Fox game on the Switch. However, with the Switch's large install base, an improved rerelease of Star Fox Zero could have been a successful release.\\n2. Earthbound: The absence of Earthbound on modern Nintendo systems has become something of a meme. Fans have been begging for a port of Mother 3, the third entry in the series, since the Switch's release. This year marks the series' 30th anniversary, and while there are plans for merch drops and collaborations, there is no mention of a game release. If Mother 3 does not launch on Switch this year, it may be the end for the dormant series.\\n3. Punch-Out!!: While a new Punch-Out!! game is not necessarily expected from Nintendo, it is surprising that the series has been skipped over on the Switch. The Wii had a Punch-Out!! installment, but the Switch has not had any kind of throwback port or new game. The Switch Lite's lack of motion controls may have contributed to the decision not to release a Punch-Out!! game on the Switch.\\n4. Rhythm Heaven: The bizarre rhythm game series has a long history on Nintendo systems, but it has yet to appear on the Switch. The series may have been lost in the transition from separate handheld and home console markets to a unified system. Games like Pushmo, which were specifically designed for on-the-go play, have disappeared on Switch as Nintendo turned console-quality games into portable experiences.\\n5. Kid Icarus: Kid Icarus was not considered a major Nintendo franchise for a long time, but the release of Kid Icarus Uprising on the Nintendo 3DS brought the series back into the spotlight. However, it has been over a decade since the release of Uprising, and there has been no new Kid Icarus game on the Switch. The series may make a comeback on Nintendo's next system as a way to push the new tech.\",\n",
       " \"\\n\\n\\n\\n\\n\\n\\n\\n\\n\\n\\n\\n\\n\\n\\n\\n\\n\\n\\n\\n\\n\\n\\n\\n\\n\\n\\n\\n\\n\\n\\n\\n\\n\\n\\n\\n\\n\\n\\n\\n\\n\\n\\n\\n\\n\\n\\n\\n\\n\\n\\n\\n\\n\\n\\n\\n\\n\\n2024 could be an exciting year for Nintendo fans, as there are rumors that the successor to the Nintendo Switch may be released by the end of the year. While there has been no official confirmation from Nintendo, there are several reasons to believe that this could be the case. One reason is that the current lineup of Switch games for 2024 is looking thin, which may indicate that developers are working on games for the Switch 2 instead.\\n\\nAs we reflect on the Switch's wildly successful life span, it's clear that it has given Nintendo fans a bounty of games to enjoy. While Mario and Zelda games are certainly a highlight, Nintendo has also represented most of its other franchises in some form on the system. However, there are still a few holes in the library, with some key Nintendo franchises yet to grace the system. Here are some of the biggest Nintendo series that could miss the Switch unless a last-second release is on the horizon.\\n\\nStar Fox is one of the most surprising omissions from the Switch library. The space shooter has been a staple of Nintendo consoles since 1993, appearing on almost every system except for the Wii. The Wii U's Star Fox Zero was a commercial failure, which may have left Nintendo with cold feet. However, the Switch's massive install base means that an improved Star Fox Zero rerelease could have rehabilitated the series.\\n\\nEarthbound's absence on a modern Nintendo system is also notable. Fans have been begging for a port of the third entry, Mother 3, for years. This year marks the series' 30th anniversary, and some vague events are planned to celebrate it. While games aren't mentioned on the anniversary webpage, there is still a sliver of hope that we might see Earthbound on the Switch in some form this year.\\n\\nPunch-Out!! is another series that has yet to appear on the Switch. While it may be a niche series, it's still surprising that Nintendo opted to skip it entirely on the system. The series' Wii installment could have been a logical next step for the Switch, but it never happened.\\n\\nRhythm Heaven is another niche series that has a long history on Nintendo systems, but it has yet to appear on the Switch. The bizarre rhythm game series has appeared on the Game Boy Advance\",\n",
       " \"\\n\\n\\n\\n\\n\\n\\n\\n\\n\\n\\n\\n\\n\\n\\n\\n\\n\\n\\n\\n\\n\\n\\n\\n\\n\\n\\n\\n\\n\\n\\n\\n\\n\\n\\n\\n\\n\\n\\n\\n\\n\\n\\n\\n\\n\\n\\n\\n\\n\\n\\n\\n\\n\\n\\n\\n\\n\\n\\n2024 could be an exciting year for Nintendo fans, as there are rumors that the successor to the Nintendo Switch may be released by the end of the year. While Nintendo has not yet confirmed these rumors, there are several reasons to believe that it could happen. The current lineup of Switch games for 2024 is looking thin, which could mean that developers are already working on games for the Switch's successor.\\n\\nAs we look back on the Switch's wildly successful life span, it's clear that the system has given Nintendo fans a bounty of games to enjoy. While we've seen many of Nintendo's major franchises represented on the system, there are still a few notable absences. Here are some of the biggest Nintendo series that could miss the Switch unless a last-second release is on the horizon.\\n\\nStar Fox - Despite the extensive library of games on the Switch, the Star Fox series is conspicuously absent. This space shooter has been a staple of Nintendo consoles since 1993, appearing on almost every system since the Super Nintendo. However, the Wii U's Star Fox Zero was a commercial failure, which may have left Nintendo hesitant to release another game in the series on the Switch.\\n\\nEarthbound - The absence of the Earthbound series on the Switch is becoming something of a meme at this point. While players aren't necessarily clamoring for a new entry in the niche RPG series, they have been begging for a port of Mother 3, the third entry in the series. However, despite some vague events planned to celebrate the series' 30th anniversary, there's still no sign of Mother 3 on the Switch.\\n\\nPunch-Out!! - While Punch-Out!! may not be as highly anticipated as some other Nintendo franchises, it's still surprising that the series has yet to appear on the Switch. Nintendo showed its willingness to make a motion-controller boxing game early in the Switch's life with Arms, but we never got a Punch-Out!! game.\\n\\nRhythm Heaven - The Rhythm Heaven series is another niche franchise that has a long history on Nintendo systems, appearing on the Game Boy Advance, Nintendo DS, 3DS, and Wii. However, it has yet to make an appearance on the Switch.\\n\\n\",\n",
       " \"\\n\\n\\n\\n\\n\\n\\n\\n\\n\\n\\n\\n\\n\\n\\n\\n\\n\\n\\n\\n\\n\\n\\n\\n\\n\\n\\n\\n\\n\\n\\n\\n\\n\\n\\n\\n\\n\\n\\n\\n\\n\\n\\n\\n\\n\\n\\n\\n\\n\\n\\n\\n\\n\\n\\n\\n\\n\\n\\n\\n1. Star Fox: Despite the commercial failure of Star Fox Zero on the Wii U, the Switch's large install base could have allowed for an improved rerelease of the game. With potentially only months left in the Switch's lifespan, a last-second release of a new Star Fox game is still possible.\\n2. Earthbound: The absence of Earthbound on modern Nintendo systems has become a meme, with fans clamoring for a port of Mother 3. While there are no concrete plans for a release this year, the series' 30th anniversary may bring some hope for a revival.\\n3. Punch-Out!!: Although not expected, the absence of Punch-Out!! on the Switch is surprising. Nintendo's focus on traditional button controls for the Switch Lite may have contributed to this decision.\\n4. Rhythm Heaven: The rhythm game series has a long history on Nintendo systems, but it has yet to appear on the Switch. Its niche status and the lack of space in Nintendo's first-party schedule may have contributed to its absence.\\n5. Kid Icarus: After the success of Kid Icarus Uprising on the 3DS, fans have been hoping for a new entry in the series on the Switch. However, it may be more likely for a new Kid Icarus game to appear on Nintendo's next system as a way to showcase new technology.\\n6. Dr. Mario: Although the puzzle series has appeared on the Switch Online NES app, there has been no dedicated release on the Switch. The mobile game Dr. Mario World may have replaced the need for a new entry on the Switch.\",\n",
       " \"\\n\\n\\n\\n\\n\\n\\n\\n\\n\\n\\n\\n\\n\\n\\n\\n\\n\\n\\n\\n\\n\\n\\n\\n\\n\\n\\n\\n\\n\\n\\n\\n\\n\\n\\n\\n\\n\\n\\n\\n\\n\\n\\n\\n\\n\\n\\n\\n\\n\\n\\n\\n\\n\\n\\n\\n\\n\\n\\n\\n\\n2024 could be an exciting year for Nintendo fans, as there are rumors that the successor to the Nintendo Switch may be released by the end of the year. While Nintendo has not yet officially confirmed these rumors, there are several reasons to believe that it could happen. The current lineup of Switch games for 2024 is looking thin, which could mean that developers are already working on games for the Switch's successor.\\n\\nAs we look back on the Switch's wildly successful life span, it's impressive to see the bounty of games that it has given to Nintendo fans. From Mario and Zelda to Animal Crossing and WarioWare, most of Nintendo's franchises have been represented in some form. However, there are still a few holes in the Switch's library, with some key Nintendo franchises yet to grace the system.\\n\\nOne of the most surprising omissions is Star Fox, a space shooter that has been a staple of Nintendo consoles since 1993. Despite appearing on almost every Nintendo system since the Super Nintendo, it seems that we won't get a Star Fox game on the Switch. This is likely due to the commercial failure of Star Fox Zero on the Wii U, which may have left Nintendo with cold feet. However, with the Switch's massive install base, an improved Star Fox Zero rerelease could have rehabilitated the series.\\n\\nAnother notable absence is Earthbound, a niche RPG series that has a long history on Nintendo systems. While Earthbound Beginnings was released on the Switch in 2015, the third entry in the series, Mother 3, has yet to make an appearance. This is despite the fact that 2024 marks the series' 30th anniversary, and some vague events are planned to celebrate it. However, if the year goes by without Mother 3 launching on Switch, we may be looking at the true end for the dormant series.\\n\\nOther notable absences on the Switch include Punch-Out!!, Rhythm Heaven, Kid Icarus, and Dr. Mario. While some of these series may seem niche, they have all had a long history on Nintendo systems and have a dedicated fanbase. It's unclear why Nintendo has opted to skip these series on the Switch, but it's possible that they may make a comeback\",\n",
       " '\\n\\n\\n\\n\\n\\n\\n\\n\\n\\n\\n\\n\\n\\n\\n\\n\\n\\n\\n\\n\\n\\n\\n\\n\\n\\n\\n\\n\\n\\n\\n\\n\\n\\n\\n\\n\\n\\n\\n\\n\\n\\n\\n\\n\\n\\n\\n\\n\\n\\n\\n\\n\\n\\n\\n\\n\\n\\n\\n\\n\\n\\n1. Star Fox: Despite its popularity and appearance on almost every Nintendo system since the Super Nintendo, Star Fox has yet to make an appearance on the Switch. The Wii U\\'s Star Fox Zero was a commercial failure, but the Switch\\'s massive install base could have given the series a second chance.\\n2. Earthbound: The absence of Earthbound on a modern Nintendo system is a meme at this point. Fans have been begging for a port of Mother 3, the third entry in the series, but Nintendo has yet to deliver. This year marks the series\\' 30th anniversary, so there\\'s still hope for a revival.\\n3. Punch-Out!!: While not a major franchise, Punch-Out!! has yet to appear on the Switch. Nintendo\\'s focus on traditional button controls for the Switch Lite may have played a role in the series\\' absence.\\n4. Rhythm Heaven: The bizarre rhythm game series has a long history on Nintendo systems, but it has yet to appear on the Switch. The series may have been lost in Nintendo\\'s transition from separate handheld and home console markets to a unified system.\\n5. Kid Icarus: The series was hardly considered a \"Nintendo franchise\" until Kid Icarus Uprising was released on the Nintendo 3DS in 2012. The cult hit game left fans hungry for more, but it\\'s been over a decade since its release.\\n6. Dr. Mario: The puzzle series has been absent on Switch outside of its appearance on the Switch Online NES app. Nintendo\\'s focus on console-caliber titles and the release of Dr. Mario World on mobile may have played a role in the series\\' absence.',\n",
       " \"\\n\\n\\n\\n\\n\\n\\n\\n\\n\\n\\n\\n\\n\\n\\n\\n\\n\\n\\n\\n\\n\\n\\n\\n\\n\\n\\n\\n\\n\\n\\n\\n\\n\\n\\n\\n\\n\\n\\n\\n\\n\\n\\n\\n\\n\\n\\n\\n\\n\\n\\n\\n\\n\\n\\n\\n\\n\\n\\n\\n\\n\\n\\n2024 could be an exciting year for Nintendo fans, as there are rumors that the successor to the Nintendo Switch may be released by the end of the year. While there has been no official word from Nintendo yet, there are several reasons to believe that this could be the case. The current lineup of Switch games for 2024 is looking thin, which could mean that developers are already working on games for the Switch's successor.\\n\\nAs we reflect on the Switch's wildly successful life span, it's clear that the system has given Nintendo fans a bounty of games. While franchises like Mario and Zelda have been well-represented, most of Nintendo's franchises have been represented in some form, even if some were just rereleases or oddball spinoffs. However, there are still a few holes in the Switch's library, as some key Nintendo franchises have yet to grace the system.\\n\\nOne of the most surprising omissions is Star Fox, a space shooter that has been a staple of Nintendo consoles since 1993. The series has appeared on almost every Nintendo system since the Super Nintendo, only missing the Nintendo Wii. However, it seems like we won't get a Star Fox game on the Switch, which is a shame because the system's massive install base could have elevated even the most niche franchises.\\n\\nAnother surprising omission is Earthbound, a niche RPG series that has been absent on modern Nintendo systems. Fans have been begging for a port of its third entry, Mother 3, but Nintendo has yet to deliver. This year marks the series' 30th anniversary, and some vague events are planned to celebrate it, including merch drops and collaborations. While games aren't mentioned on the anniversary webpage, there is still a sliver of hope that we might see Earthbound on the Switch in some form this year.\\n\\nPunch-Out!! is another series that has been absent on the Switch, which is surprising considering Nintendo's eagerness to make a motion-controller boxing game early in the system's life with Arms. However, the Switch Lite's lack of motion controls may have made it difficult to release a Punch-Out!! game on the system.\\n\\nRhythm Heaven is another niche franchise that has yet to appear on the Switch,\",\n",
       " \"\\n\\n\\n\\n\\n\\n\\n\\n\\n\\n\\n\\n\\n\\n\\n\\n\\n\\n\\n\\n\\n\\n\\n\\n\\n\\n\\n\\n\\n\\n\\n\\n\\n\\n\\n\\n\\n\\n\\n\\n\\n\\n\\n\\n\\n\\n\\n\\n\\n\\n\\n\\n\\n\\n\\n\\n\\n\\n\\n\\n\\n\\n\\n\\n2024 could be an exciting year for Nintendo fans, as there are rumors that the successor to the Nintendo Switch may be released by the end of the year. While Nintendo has not yet officially confirmed these rumors, there are several reasons to believe they could be true. One indication is that the current lineup of Switch games for 2024 is looking thin, which may suggest that developers are already working on games for the next console.\\n\\nAs we reflect on the Switch's wildly successful life span, it's clear that Nintendo has given fans a bounty of games to enjoy. While Mario and Zelda games are certainly a highlight, Nintendo has also represented most of its other franchises in some form, even if some were just rereleases or oddball spinoffs. However, there are still a few holes in the Switch's library, with some key Nintendo franchises yet to grace the system. Here are some of the biggest Nintendo series that could miss the Switch unless a last-second release is on the horizon.\\n\\nStar Fox is one of the most surprising omissions from the Switch's library. The space shooter has been a staple of Nintendo consoles since 1993, appearing on almost every Nintendo system since the Super Nintendo. However, it seems like we won't get a Star Fox game on the Switch, which is surprising given the system's massive install base and the success of other niche franchises on the platform.\\n\\nEarthbound is another series that has yet to appear on the Switch, which is disappointing given the success of other retro games on the platform. While Earthbound Beginnings was released on the Switch in 2015, there has been no word on a port of Earthbound's third entry, Mother 3. This year marks the series' 30th anniversary, so there is still hope that we may see a revival of some sort on the Switch.\\n\\nPunch-Out!! is another series that has been absent on the Switch, which is surprising given Nintendo's eagerness to make motion-controller boxing games early in the system's life. While there may not be a lot of space left in Nintendo's first-party schedule for a quick rhythm game, it would be great to see a new Punch-Out!! game or a throwback port of its Wii installment.\\n\\nRhythm Heaven is\",\n",
       " \"\\n\\n\\n\\n\\n\\n\\n\\n\\n\\n\\n\\n\\n\\n\\n\\n\\n\\n\\n\\n\\n\\n\\n\\n\\n\\n\\n\\n\\n\\n\\n\\n\\n\\n\\n\\n\\n\\n\\n\\n\\n\\n\\n\\n\\n\\n\\n\\n\\n\\n\\n\\n\\n\\n\\n\\n\\n\\n\\n\\n\\n\\n\\n\\n\\n1. Star Fox: Despite its popularity and appearance on almost every Nintendo system since the Super Nintendo, Star Fox has yet to make an appearance on the Switch. The failure of Star Fox Zero on the Wii U may have left Nintendo hesitant to release a new Star Fox game on the Switch. However, with the Switch's large install base, an improved rerelease of Star Fox Zero could have been a success.\\n2. Earthbound: Earthbound's absence on modern Nintendo systems has become a meme, with fans clamoring for a port of Mother 3. The series' 30th anniversary is this year, and while there are plans for merch drops and collaborations, there is no mention of games. If Mother 3 does not launch on Switch this year, it may signal the end of the dormant series.\\n3. Punch-Out!!: Punch-Out!! has yet to make an appearance on the Switch, despite the success of Arms early in the console's life. The Switch Lite's lack of motion controls may have been a factor in the absence of Punch-Out!!, as the series relies heavily on motion controls.\\n4. Rhythm Heaven: Rhythm Heaven has a long history on Nintendo systems, but has yet to appear on the Switch. The series' niche status and the Switch's focus on console-quality games may have contributed to its absence.\\n5. Kid Icarus: Kid Icarus was not considered a major Nintendo franchise until the release of Kid Icarus Uprising on the Nintendo 3DS in 2012. The game's success and cult following have left fans hoping for a new installment on the Switch, but it has yet to materialize.\\n6. Dr. Mario: Dr. Mario has been absent on the Switch outside of its appearance on the Switch Online NES app. The failure of Dr. Mario World on mobile may have contributed to the absence of a new Dr. Mario game on the Switch. However, the series' arcade-style gameplay and portable nature make it a perfect fit for the Switch.\",\n",
       " '\\n\\n\\n\\n\\n\\n\\n\\n\\n\\n\\n\\n\\n\\n\\n\\n\\n\\n\\n\\n\\n\\n\\n\\n\\n\\n\\n\\n\\n\\n\\n\\n\\n\\n\\n\\n\\n\\n\\n\\n\\n\\n\\n\\n\\n\\n\\n\\n\\n\\n\\n\\n\\n\\n\\n\\n\\n\\n\\n\\n\\n\\n\\n\\n\\n\\n1. Star Fox: Despite its popularity and appearance on almost every Nintendo system since the Super Nintendo, Star Fox has yet to make an appearance on the Switch. The failure of Star Fox Zero on the Wii U may have caused Nintendo to hesitate, but the success of the Switch could have allowed for a revival of the series.\\n2. Earthbound: The absence of Earthbound on modern Nintendo systems is a meme at this point, with fans clamoring for a port of Mother 3. With the series\\' 30th anniversary coming up, there is still hope for a revival, but if it doesn\\'t happen on the Switch, it may be the end for the dormant series.\\n3. Punch-Out!!: Although a new Punch-Out!! game is not expected, it is surprising that Nintendo opted to skip the series entirely on Switch. The Wii U\\'s motion-controlled games were dropped on Switch, which may explain why we never got a Punch-Out!! game.\\n4. Rhythm Heaven: The bizarre rhythm game series has a long history on Nintendo systems, but it has yet to appear on the Switch. It is an awkward franchise that was lost in Nintendo\\'s transition from separate handheld and home console markets to a unified system.\\n5. Kid Icarus: Although Kid Icarus was not considered a \"Nintendo franchise\" for a long time, the success of Kid Icarus Uprising on the Nintendo 3DS left fans hungry for more. It is unclear if a new Switch title would have made Kid Icarus a top-tier series, but it would have been its best shot.\\n6. Dr. Mario: Although tons of Mario spinoffs have made their way to Switch, Dr. Mario has been absent outside of its appearance on the Switch Online NES app. The failure of Dr. Mario World on mobile may have caused Nintendo to hesitate, but a new Dr. Mario game would be a blast for fans of the puzzle genre.']"
      ]
     },
     "execution_count": 78,
     "metadata": {},
     "output_type": "execute_result"
    }
   ],
   "source": [
    "# Creating a dictionary to hold the responseBody for each model\n",
    "model_response_dict = replicate.groupby('model')['responseBody'].apply(list).to_dict()\n",
    "\n",
    "# Displaying the dictionary\n",
    "model_response_dict['mistralai/mixtral-8x7b-instruct-v0.1']"
   ]
  },
  {
   "cell_type": "code",
   "execution_count": null,
   "metadata": {},
   "outputs": [],
   "source": []
  }
 ],
 "metadata": {
  "kernelspec": {
   "display_name": "Python 3",
   "language": "python",
   "name": "python3"
  },
  "language_info": {
   "codemirror_mode": {
    "name": "ipython",
    "version": 3
   },
   "file_extension": ".py",
   "mimetype": "text/x-python",
   "name": "python",
   "nbconvert_exporter": "python",
   "pygments_lexer": "ipython3",
   "version": "3.10.0"
  },
  "orig_nbformat": 4,
  "vscode": {
   "interpreter": {
    "hash": "5ee6f23f9c4d80c203dea4faa6a5d0c8cffa4ab65b221251ea7227320f350d1e"
   }
  }
 },
 "nbformat": 4,
 "nbformat_minor": 2
}

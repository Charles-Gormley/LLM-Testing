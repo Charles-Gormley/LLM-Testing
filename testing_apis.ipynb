{
 "cells": [
  {
   "attachments": {},
   "cell_type": "markdown",
   "metadata": {},
   "source": [
    "# Libraries"
   ]
  },
  {
   "cell_type": "code",
   "execution_count": 69,
   "metadata": {},
   "outputs": [],
   "source": [
    "# Python Modules\n",
    "from time import time, sleep \n",
    "import os\n",
    "import json\n",
    "\n",
    "# External Libraries\n",
    "import pandas as pd\n",
    "\n",
    "from openai import OpenAI\n",
    "import google.generativeai as genai\n",
    "import boto3\n",
    "import replicate\n"
   ]
  },
  {
   "attachments": {},
   "cell_type": "markdown",
   "metadata": {},
   "source": [
    "# Test Parameters"
   ]
  },
  {
   "cell_type": "code",
   "execution_count": 103,
   "metadata": {},
   "outputs": [],
   "source": [
    "tests_per_session = 10"
   ]
  },
  {
   "cell_type": "code",
   "execution_count": 104,
   "metadata": {},
   "outputs": [],
   "source": [
    "large_content = '''\"Now that 2024 is here, the countdown is on. Rumors suggest that the Nintendo\\u2019s Switch long-awaited successor is coming by the end of the year. While there\\u2019s no official word from Nintendo on that yet, there\\u2019s good reason to think it could happen. The current lineup of Switch games for 2024 is looking thin, so one could reasonably guess that developers may be off working on Switch 2 games by now.\\n\\nAs I begin to reflect on the Switch\\u2019s wildly successful life span, I can\\u2019t help but think about what a bounty of games its given to Nintendo fans. I\\u2019m not just talking about Mario and Zelda games either. Most of Nintendo\\u2019s franchises have been represented in some form, even if some were just rereleases or oddball spinoffs. We\\u2019ve seen Animal Crossing, Metroid, WarioWare, and even F-Zero get new games on the system. Nintendo left virtually no stone unturned this generation, as it turned just about every franchise it had into a cash cow.\\n\\nRecommended Videos\\n\\nDespite its extensive library, there are still a few holes. Some key Nintendo franchises have yet to grace the system, even in the form of an old game remaster. While titles like Advance Wars and Big Brain Academy made a comeback, heavy hitters like Star Fox have seemingly skipped the Switch entirely. With perhaps only months left in the system\\u2019s life span, these are the biggest Nintendo series that could miss the Switch unless a last-second release is on the horizon.\\n\\nStar Fox\\n\\nOf every major Nintendo series that has yet to come to Switch in any form, Star Fox is the most surprising omission. The space shooter has been a staple of Nintendo consoles ever since 1993. The series has appeared on almost every Nintendo system since the Super Nintendo, only missing the Nintendo Wii. It seems like we won\\u2019t get one on the Switch at this rate, and that makes sense to a degree. The Wii U\\u2019s Star Fox Zero was a commercial failure, likely leaving Nintendo with cold feet.\\n\\nEven so, we\\u2019ve seen that the Switch has been able to elevate even the most niche franchises thanks to its massive install base. An improved Star Fox Zero rerelease could have rehabilitated the series. Perhaps Nintendo is saving that for its final gamble on the platform. If not, there\\u2019s always hope that it gets the F-Zero 99 treatment.\\n\\nEarthbound\\n\\nAt this point, Earthbound\\u2019s absence on a modern Nintendo system is a bit of a meme. It\\u2019s not even that players are clamoring for a new entry in the niche RPG series; they\\u2019ve simply been begging for a port of its third entry, Mother 3. For a few years prior to the Switch\\u2019s life, it felt like Nintendo was building to that moment. A surprise Earthbound Beginnings release in 2015 felt like table-setting for a Mother 3 revival heading into the Switch era, but that never came.\\n\\nThere\\u2019s still a sliver of hope that we might see Earthbound on the Switch in some form this year. This year marks the series\\u2019 30th anniversary and some vague events are planned to celebrate it. That includes some merch drops and collaborations. While games aren\\u2019t mentioned on the anniversary webpage, this is probably the best hope we\\u2019ve had since 2015 for a revival of some sort. If the year goes by without Mother 3 launching on Switch, either as a full remake or a Switch Online retro rerelease, we may be looking at the true end for the dormant series.\\n\\nAt this point, I don\\u2019t think many people really expect a new Punch-Out!! game from Nintendo. It\\u2019s in the same boat as Duck Hunt \\u2014 a retro series that we\\u2019re comfortable looking back at with pure nostalgia. But it\\u2019s a little surprising Nintendo opted to skip the series entirely on Switch. Nintendo showed its eagerness to make a motion-controller boxing game early in the Switch\\u2019s life with Arms, so Punch-Out!! seemed like a logical (and more bankable) next step. That never happened, nor did any kind of throwback port of its Wii installment.\\n\\nPunch-Out!! may have been a casualty of what I call the Switch Lite effect. When Nintendo released its lower-tier system, which ditched detachable Joy-Cons, the system moved away from motion-controlled games entirely. Titles like Mario Party Superstars and WarioWare: Get It Toegther! prioritized traditional button controls to ensure they could run on all systems. Perhaps that explains why we never got a Punch-Out!! game. If that has you feeling blue, might I recommend watching Summoning Salt\\u2019s fantastic two-hour documentary about the history of Mike Tyson\\u2019s Punch-Out!! speedruns?\\n\\nRhythm Heaven\\n\\nWhile the Rhythm Heaven series might seem as niche as they come, it\\u2019s still a bit of a surprise that it has yet to appear on the Nintendo Switch. The bizarre rhythm game series has a long history on Nintendo systems, appearing on the Game Boy Advance, Nintendo DS, 3DS, and even the Wii. It seemed like the kind of game that could get a small-budget surprise launch on Switch during some random Nintendo Direct. That never happened though, and indies like Melatonin were left to pick up where the series left off.\\n\\nRhythm Heaven is one of those awkward franchises that found itself lost in Nintendo\\u2019s transition from separate handheld and home console markets to a unified system. Games like Pushmo that were specifically designed for on-the-go play have disappeared on Switch as Nintendo turned console-quality games into robust portable experiences. Perhaps there just isn\\u2019t a lot of space left in Nintendo\\u2019s first-party schedule for a quick rhythm game that takes a few hours to complete.\\n\\nKid Icarus\\n\\nFor a long time, Kid Icarus was hardly even considered a \\u201cNintendo franchise.\\u201d It had two entries in the publisher\\u2019s early days, but it went cold after 1991\\u2019s Kid Icarus: Of Myths and Monsters. Interest in the series would come back when the series\\u2019 winged hero, Pit, made his way to Super Smash Bros. Brawl, but few were really clamoring for an actual revival. What would a modern Kid Icarus game even look like?\\n\\nThat mindset would change in 2012 thanks to Kid Icarus Uprising, a cult hit Nintendo 3DS title that stands as one of the company\\u2019s most creative outputs. It would reimagine the series as a mythical third-person shooter full of aerial battles and some on-rail segments. It\\u2019s a wildly ambitious game that made great use of the 3DS and one that left fans hungry for more. Unfortunately, it\\u2019s been over a decade now since that release. Uprising wouldn\\u2019t turn Kid Icarus into a top-tier series, and there\\u2019s no reason to think it\\u2019ll become one anytime soon; a new Switch title would have been its best shot at that. Perhaps it\\u2019ll make a comeback on Nintendo\\u2019s next system as a way to push the new tech.\\n\\nDr. Mario\\n\\nI fully admit that this pick is one that perhaps only I care about, but it\\u2019s worth mentioning regardless. Tons of Mario spinoffs have made their way to Switch over the years, from Mario Maker to Strikers. There\\u2019s one that hasn\\u2019t though: Dr. Mario. The puzzle series has been absent on Switch outside of its appearance on the Switch Online NES app. Instead, Nintendo would try to turn it into a mobile game with 2019\\u2019s Dr. Mario World. That title would reimagine the franchise as a touch-based puzzler with mixed results. It seems like that release is why we never got a dedicated Switch installment.\\n\\nDo we really need a new Dr. Mario game? Perhaps not considering how many great puzzle games are on the Switch, but Dr. Mario is a blast for fans of the genre. In fact, Dr. Mario: Miracle Cure was one of my most-played games on Nintendo 3DS. It was a solid standby that I returned to any time I was in-between big releases or wanted a casual experience to dig into. Arcade-based Nintendo games like that have been lacking on Switch as the company focused on console-caliber titles, but I hope Nintendo can find a way to return to its roots on its next console. Series like Dr. Mario are the kind of portable staples that a portable device needs.\\n\\nEditors' Recommendations'''\n",
    "medium_content = '''1. Looks like the company was nuking most of the sales org. If they’re keeping <25% of an org the calculus isn’t, “Are they doing a good job and have we given them a fair shake?” It’s more, “Who are the top performers we need to keep? We have to get rid of everyone else.” Totally unfair to her. It may have been nigh impossible to reach the performance bar required to stay. But hard to say with no info.\n",
    "\n",
    "2. The fact that it’s two HR people who don’t know her is either a big mistep or it implies her manager (and possibly her manager’s manager etc.) are gone too.\n",
    "\n",
    "3. The HR team was probably given a big list of names they needed to tell, and probably had no clue as to why the decision making led to some staying and some going. That’s not a fun position to be in, but could be the only alternative to a mass firing in a giant Zoom meeting depending on how much of management was also fired.\n",
    "\n",
    "4. It’s interesting that they’re so clear it’s performance-based and not a layoff. That’s not an accident. Could be to avoid regulations around the WARN act, or as justification to give zero severance. Usually in this call they go over the high level of that stuff, but this one took a turn.\n",
    "'''\n",
    "small_content = '''The Houthis just fired a missile at a shadow vessel carrying sanctioned Russian oil.\n",
    "Hours after Russia condemned U.S. strikes on the Houthis.'''\n",
    "\n",
    "large_token_inquiry = {'content': large_content,\n",
    "                       \"max_tokens\":len(large_content.split())+600,\n",
    "                       'payload_size':\"large\"\n",
    "                       }\n",
    "medium_token_inquiry = {'content': medium_content,\n",
    "                       \"max_tokens\":len(medium_content.split())+600,\n",
    "                       'payload_size':\"medium\"\n",
    "                       }\n",
    "small_token_inquiry = {'content': small_content,\n",
    "                       \"max_tokens\":len(small_content.split())+600,\n",
    "                       'payload_size':\"small\"\n",
    "                       }\n",
    "\n",
    "content_stack = [small_token_inquiry, medium_token_inquiry, large_token_inquiry]"
   ]
  },
  {
   "attachments": {},
   "cell_type": "markdown",
   "metadata": {},
   "source": [
    "# OpenAI"
   ]
  },
  {
   "cell_type": "code",
   "execution_count": 61,
   "metadata": {},
   "outputs": [],
   "source": [
    "client = OpenAI()\n",
    "models = ['gpt-4', 'gpt-3.5-turbo-1106', 'gpt-3.5-turbo-instruct']"
   ]
  },
  {
   "cell_type": "code",
   "execution_count": 62,
   "metadata": {},
   "outputs": [],
   "source": [
    "def test_openai(content:dict, model:str) -> dict:\n",
    "    try:\n",
    "        start_time = time()\n",
    "\n",
    "        response = client.chat.completions.create(\n",
    "        model=\"gpt-4-1106-preview\",\n",
    "        messages=[\n",
    "            {\n",
    "            \"role\": \"system\",\n",
    "            \"content\": \"You are a news summarizer. Sumarize the articles in a sarcastic tone and don't provide any additional information.\"\n",
    "            },\n",
    "            {\n",
    "            \"role\": \"user\",\n",
    "            \"content\": content['content']\n",
    "            }\n",
    "        ],\n",
    "        )\n",
    "        \n",
    "        latency = time() - start_time\n",
    "        failure = False\n",
    "    except:\n",
    "        response = None\n",
    "        latency = None\n",
    "        failure = True\n",
    "\n",
    "    results = {\"UnixTime\": start_time, \n",
    "               \"latency\": latency,\n",
    "               \"provider\": \"openai\",\n",
    "               \"model\":model,\n",
    "               \"responseBody\": response.choices[0].message.content ,\n",
    "               \"payloadSize\": content[\"payload_size\"],\n",
    "               \"failure\": failure\n",
    "               }\n",
    "    return results"
   ]
  },
  {
   "cell_type": "code",
   "execution_count": 65,
   "metadata": {},
   "outputs": [],
   "source": [
    "openai_results = []\n",
    "for model in models: \n",
    "    for content in content_stack:\n",
    "        for i in range(tests_per_session):\n",
    "            openai_results.append(test_openai(content, model))"
   ]
  },
  {
   "cell_type": "code",
   "execution_count": 66,
   "metadata": {},
   "outputs": [],
   "source": [
    "openai_df = pd.DataFrame(openai_results)\n",
    "openai_df.to_csv(\"openai.csv\")"
   ]
  },
  {
   "cell_type": "code",
   "execution_count": 67,
   "metadata": {},
   "outputs": [
    {
     "data": {
      "text/html": [
       "<div>\n",
       "<style scoped>\n",
       "    .dataframe tbody tr th:only-of-type {\n",
       "        vertical-align: middle;\n",
       "    }\n",
       "\n",
       "    .dataframe tbody tr th {\n",
       "        vertical-align: top;\n",
       "    }\n",
       "\n",
       "    .dataframe thead th {\n",
       "        text-align: right;\n",
       "    }\n",
       "</style>\n",
       "<table border=\"1\" class=\"dataframe\">\n",
       "  <thead>\n",
       "    <tr style=\"text-align: right;\">\n",
       "      <th></th>\n",
       "      <th>UnixTime</th>\n",
       "      <th>latency</th>\n",
       "      <th>provider</th>\n",
       "      <th>model</th>\n",
       "      <th>responseBody</th>\n",
       "      <th>payloadSize</th>\n",
       "      <th>failure</th>\n",
       "    </tr>\n",
       "  </thead>\n",
       "  <tbody>\n",
       "    <tr>\n",
       "      <th>0</th>\n",
       "      <td>1.705102e+09</td>\n",
       "      <td>3.679996</td>\n",
       "      <td>openai</td>\n",
       "      <td>gpt-4</td>\n",
       "      <td>Oh, the irony is thicker than the oil on that ...</td>\n",
       "      <td>small</td>\n",
       "      <td>False</td>\n",
       "    </tr>\n",
       "    <tr>\n",
       "      <th>1</th>\n",
       "      <td>1.705102e+09</td>\n",
       "      <td>6.255866</td>\n",
       "      <td>openai</td>\n",
       "      <td>gpt-4</td>\n",
       "      <td>Oh, what perfect timing! It's almost as if the...</td>\n",
       "      <td>small</td>\n",
       "      <td>False</td>\n",
       "    </tr>\n",
       "    <tr>\n",
       "      <th>2</th>\n",
       "      <td>1.705102e+09</td>\n",
       "      <td>8.672417</td>\n",
       "      <td>openai</td>\n",
       "      <td>gpt-4</td>\n",
       "      <td>Oh, what a shocker! The Houthis, in a totally ...</td>\n",
       "      <td>small</td>\n",
       "      <td>False</td>\n",
       "    </tr>\n",
       "    <tr>\n",
       "      <th>3</th>\n",
       "      <td>1.705102e+09</td>\n",
       "      <td>6.376310</td>\n",
       "      <td>openai</td>\n",
       "      <td>gpt-4</td>\n",
       "      <td>In a thrilling episode of 'What Could Possibly...</td>\n",
       "      <td>small</td>\n",
       "      <td>False</td>\n",
       "    </tr>\n",
       "    <tr>\n",
       "      <th>4</th>\n",
       "      <td>1.705102e+09</td>\n",
       "      <td>6.789384</td>\n",
       "      <td>openai</td>\n",
       "      <td>gpt-4</td>\n",
       "      <td>Oh, what a shocking turn of events, who could'...</td>\n",
       "      <td>small</td>\n",
       "      <td>False</td>\n",
       "    </tr>\n",
       "    <tr>\n",
       "      <th>...</th>\n",
       "      <td>...</td>\n",
       "      <td>...</td>\n",
       "      <td>...</td>\n",
       "      <td>...</td>\n",
       "      <td>...</td>\n",
       "      <td>...</td>\n",
       "      <td>...</td>\n",
       "    </tr>\n",
       "    <tr>\n",
       "      <th>85</th>\n",
       "      <td>1.705103e+09</td>\n",
       "      <td>26.663747</td>\n",
       "      <td>openai</td>\n",
       "      <td>gpt-3.5-turbo-instruct</td>\n",
       "      <td>Oh boy, get ready for the shock of the century...</td>\n",
       "      <td>large</td>\n",
       "      <td>False</td>\n",
       "    </tr>\n",
       "    <tr>\n",
       "      <th>86</th>\n",
       "      <td>1.705103e+09</td>\n",
       "      <td>25.533622</td>\n",
       "      <td>openai</td>\n",
       "      <td>gpt-3.5-turbo-instruct</td>\n",
       "      <td>Oh, joyous day, the Switch finally gets to gra...</td>\n",
       "      <td>large</td>\n",
       "      <td>False</td>\n",
       "    </tr>\n",
       "    <tr>\n",
       "      <th>87</th>\n",
       "      <td>1.705103e+09</td>\n",
       "      <td>28.832462</td>\n",
       "      <td>openai</td>\n",
       "      <td>gpt-3.5-turbo-instruct</td>\n",
       "      <td>Oh, look, it's the not-so-secret, totally unex...</td>\n",
       "      <td>large</td>\n",
       "      <td>False</td>\n",
       "    </tr>\n",
       "    <tr>\n",
       "      <th>88</th>\n",
       "      <td>1.705103e+09</td>\n",
       "      <td>55.672293</td>\n",
       "      <td>openai</td>\n",
       "      <td>gpt-3.5-turbo-instruct</td>\n",
       "      <td>Oh boy, let's all feign shock as rumors fly th...</td>\n",
       "      <td>large</td>\n",
       "      <td>False</td>\n",
       "    </tr>\n",
       "    <tr>\n",
       "      <th>89</th>\n",
       "      <td>1.705103e+09</td>\n",
       "      <td>34.812003</td>\n",
       "      <td>openai</td>\n",
       "      <td>gpt-3.5-turbo-instruct</td>\n",
       "      <td>Oh boy, strap in for a tale as old as time—Nin...</td>\n",
       "      <td>large</td>\n",
       "      <td>False</td>\n",
       "    </tr>\n",
       "  </tbody>\n",
       "</table>\n",
       "<p>90 rows × 7 columns</p>\n",
       "</div>"
      ],
      "text/plain": [
       "        UnixTime    latency provider                   model  \\\n",
       "0   1.705102e+09   3.679996   openai                   gpt-4   \n",
       "1   1.705102e+09   6.255866   openai                   gpt-4   \n",
       "2   1.705102e+09   8.672417   openai                   gpt-4   \n",
       "3   1.705102e+09   6.376310   openai                   gpt-4   \n",
       "4   1.705102e+09   6.789384   openai                   gpt-4   \n",
       "..           ...        ...      ...                     ...   \n",
       "85  1.705103e+09  26.663747   openai  gpt-3.5-turbo-instruct   \n",
       "86  1.705103e+09  25.533622   openai  gpt-3.5-turbo-instruct   \n",
       "87  1.705103e+09  28.832462   openai  gpt-3.5-turbo-instruct   \n",
       "88  1.705103e+09  55.672293   openai  gpt-3.5-turbo-instruct   \n",
       "89  1.705103e+09  34.812003   openai  gpt-3.5-turbo-instruct   \n",
       "\n",
       "                                         responseBody payloadSize  failure  \n",
       "0   Oh, the irony is thicker than the oil on that ...       small    False  \n",
       "1   Oh, what perfect timing! It's almost as if the...       small    False  \n",
       "2   Oh, what a shocker! The Houthis, in a totally ...       small    False  \n",
       "3   In a thrilling episode of 'What Could Possibly...       small    False  \n",
       "4   Oh, what a shocking turn of events, who could'...       small    False  \n",
       "..                                                ...         ...      ...  \n",
       "85  Oh boy, get ready for the shock of the century...       large    False  \n",
       "86  Oh, joyous day, the Switch finally gets to gra...       large    False  \n",
       "87  Oh, look, it's the not-so-secret, totally unex...       large    False  \n",
       "88  Oh boy, let's all feign shock as rumors fly th...       large    False  \n",
       "89  Oh boy, strap in for a tale as old as time—Nin...       large    False  \n",
       "\n",
       "[90 rows x 7 columns]"
      ]
     },
     "execution_count": 67,
     "metadata": {},
     "output_type": "execute_result"
    }
   ],
   "source": [
    "openai_df"
   ]
  },
  {
   "attachments": {},
   "cell_type": "markdown",
   "metadata": {},
   "source": [
    "# Google"
   ]
  },
  {
   "cell_type": "code",
   "execution_count": 105,
   "metadata": {},
   "outputs": [],
   "source": [
    "GOOGLE_API_KEY=os.getenv('GOOGLE_API_KEY')\n",
    "google_models = ['gemini-pro']"
   ]
  },
  {
   "cell_type": "code",
   "execution_count": 106,
   "metadata": {},
   "outputs": [],
   "source": [
    "def test_google(content:dict, model:str) -> dict:\n",
    "    try:\n",
    "        start_time = time()\n",
    "        model_instance = genai.GenerativeModel(model)\n",
    "\n",
    "        response = model_instance.generate_content(content['content'])\n",
    "        \n",
    "        latency = time() - start_time\n",
    "        failure = False\n",
    "    except:\n",
    "        response = None\n",
    "        latency = None\n",
    "        failure = True\n",
    "\n",
    "    results = {\"UnixTime\": start_time, \n",
    "               \"latency\": latency,\n",
    "               \"provider\": \"openai\",\n",
    "               \"model\":model,\n",
    "               \"responseBody\": response.text,\n",
    "               \"payloadSize\": content[\"payload_size\"],\n",
    "               \"failure\": failure\n",
    "               }\n",
    "    return results"
   ]
  },
  {
   "cell_type": "code",
   "execution_count": 107,
   "metadata": {},
   "outputs": [],
   "source": [
    "google_results = []\n",
    "for model in google_models: \n",
    "    for content in content_stack:\n",
    "        for i in range(tests_per_session):\n",
    "            sleep(5)\n",
    "            google_results.append(test_google(content, model))"
   ]
  },
  {
   "cell_type": "code",
   "execution_count": 108,
   "metadata": {},
   "outputs": [],
   "source": [
    "google_df = pd.DataFrame(google_results)\n",
    "google_df.to_csv(\"google.csv\")"
   ]
  },
  {
   "attachments": {},
   "cell_type": "markdown",
   "metadata": {},
   "source": [
    "# Amazon Bedrock"
   ]
  },
  {
   "cell_type": "code",
   "execution_count": 109,
   "metadata": {},
   "outputs": [],
   "source": [
    "rock = boto3.client('bedrock-runtime')\n",
    "rock_models = ['amazon.titan-text-express-v1', 'amazon.titan-text-lite-v1', \"meta.llama2-13b-chat-v1\", \"cohere.command-light-text-v14\", \"cohere.command-text-v14\"]"
   ]
  },
  {
   "cell_type": "code",
   "execution_count": 110,
   "metadata": {},
   "outputs": [],
   "source": [
    "def test_rock(content:dict, model:str) -> dict:\n",
    "    try:\n",
    "        start_time = time()\n",
    "\n",
    "        request = {\n",
    "        \"modelId\": model,\n",
    "        \"contentType\": \"application/json\",\n",
    "        \"accept\": \"*/*\",\n",
    "        \"body\": {\n",
    "        \"inputText\": content['content']\n",
    "        } \n",
    "        }\n",
    "        request_body = json.dumps(request['body']).encode('utf-8')\n",
    "\n",
    "        response = rock.invoke_model(\n",
    "            body=request_body,\n",
    "            modelId=request['modelId'],\n",
    "            accept=request['accept'],\n",
    "            contentType=request['contentType']\n",
    "        )\n",
    "        response = json.loads(response['body'].read())\n",
    "        \n",
    "        latency = time() - start_time\n",
    "        failure = False\n",
    "    except:\n",
    "        response = None\n",
    "        latency = None\n",
    "        failure = True\n",
    "\n",
    "    results = {\"UnixTime\": start_time, \n",
    "               \"latency\": latency,\n",
    "               \"provider\": \"openai\",\n",
    "               \"model\":model,\n",
    "               \"responseBody\": response ,\n",
    "               \"payloadSize\": content[\"payload_size\"],\n",
    "               \"failure\": failure\n",
    "               }\n",
    "    return results"
   ]
  },
  {
   "cell_type": "code",
   "execution_count": 111,
   "metadata": {},
   "outputs": [],
   "source": [
    "rock_results = []\n",
    "for model in rock_models: \n",
    "    for content in content_stack:\n",
    "        for i in range(tests_per_session):\n",
    "            sleep(5)\n",
    "            rock_results.append(test_rock(content, model))"
   ]
  },
  {
   "cell_type": "code",
   "execution_count": 112,
   "metadata": {},
   "outputs": [],
   "source": [
    "rock_df = pd.DataFrame(rock_results)\n",
    "rock_df.to_csv(\"rock.csv\")"
   ]
  },
  {
   "attachments": {},
   "cell_type": "markdown",
   "metadata": {},
   "source": [
    "# Replicate"
   ]
  },
  {
   "cell_type": "code",
   "execution_count": 113,
   "metadata": {},
   "outputs": [],
   "source": [
    "replicate_token = os.getenv(\"REPLICATE_API_TOKEN\")\n",
    "replicate_models = [\"mistralai/mistral-7b-instruct-v0.2\", \"mistralai/mixtral-8x7b-instruct-v0.1\"]"
   ]
  },
  {
   "cell_type": "code",
   "execution_count": 114,
   "metadata": {},
   "outputs": [],
   "source": [
    "def test_replicate(content:dict, model:str) -> dict:\n",
    "    try:\n",
    "        start_time = time()\n",
    "\n",
    "        response = ''\n",
    "        for event in replicate.stream(\n",
    "            model,\n",
    "            input={\n",
    "                \"prompt\": content['content']\n",
    "            },\n",
    "        ):\n",
    "            response += str(event)\n",
    "        \n",
    "        latency = time() - start_time\n",
    "        failure = False\n",
    "    except:\n",
    "        response = None\n",
    "        latency = None\n",
    "        failure = True\n",
    "\n",
    "    results = {\"UnixTime\": start_time, \n",
    "               \"latency\": latency,\n",
    "               \"provider\": \"openai\",\n",
    "               \"model\":model,\n",
    "               \"responseBody\": response,\n",
    "               \"payloadSize\": content[\"payload_size\"],\n",
    "               \"failure\": failure\n",
    "               }\n",
    "    return results"
   ]
  },
  {
   "cell_type": "code",
   "execution_count": 115,
   "metadata": {},
   "outputs": [],
   "source": [
    "replicate_results = []\n",
    "for model in replicate_models: \n",
    "    for content in content_stack:\n",
    "        for i in range(tests_per_session):\n",
    "            sleep(5)\n",
    "            replicate_results.append(test_replicate(content, model))"
   ]
  },
  {
   "cell_type": "code",
   "execution_count": 116,
   "metadata": {},
   "outputs": [],
   "source": [
    "replicate_df = pd.DataFrame(replicate_results)\n",
    "replicate_df.to_csv(\"replicate.csv\")"
   ]
  },
  {
   "cell_type": "code",
   "execution_count": null,
   "metadata": {},
   "outputs": [],
   "source": []
  }
 ],
 "metadata": {
  "kernelspec": {
   "display_name": "Python 3",
   "language": "python",
   "name": "python3"
  },
  "language_info": {
   "codemirror_mode": {
    "name": "ipython",
    "version": 3
   },
   "file_extension": ".py",
   "mimetype": "text/x-python",
   "name": "python",
   "nbconvert_exporter": "python",
   "pygments_lexer": "ipython3",
   "version": "3.10.0"
  },
  "orig_nbformat": 4,
  "vscode": {
   "interpreter": {
    "hash": "5ee6f23f9c4d80c203dea4faa6a5d0c8cffa4ab65b221251ea7227320f350d1e"
   }
  }
 },
 "nbformat": 4,
 "nbformat_minor": 2
}
